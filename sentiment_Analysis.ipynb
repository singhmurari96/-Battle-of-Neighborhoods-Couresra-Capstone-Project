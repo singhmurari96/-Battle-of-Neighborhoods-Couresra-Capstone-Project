{
  "nbformat": 4,
  "nbformat_minor": 0,
  "metadata": {
    "colab": {
      "provenance": [],
      "authorship_tag": "ABX9TyN0gyoCLse0wXk09Yu/Mwlq",
      "include_colab_link": true
    },
    "kernelspec": {
      "name": "python3",
      "display_name": "Python 3"
    },
    "language_info": {
      "name": "python"
    }
  },
  "cells": [
    {
      "cell_type": "markdown",
      "metadata": {
        "id": "view-in-github",
        "colab_type": "text"
      },
      "source": [
        "<a href=\"https://colab.research.google.com/github/singhmurari96/-Battle-of-Neighborhoods-Couresra-Capstone-Project/blob/main/sentiment_Analysis.ipynb\" target=\"_parent\"><img src=\"https://colab.research.google.com/assets/colab-badge.svg\" alt=\"Open In Colab\"/></a>"
      ]
    },
    {
      "cell_type": "code",
      "execution_count": 1,
      "metadata": {
        "colab": {
          "base_uri": "https://localhost:8080/"
        },
        "id": "t8qK9pZAAhZa",
        "outputId": "d8bad0fc-8957-412c-e513-b044ee72970b"
      },
      "outputs": [
        {
          "output_type": "stream",
          "name": "stdout",
          "text": [
            "Collecting emoji\n",
            "  Downloading emoji-2.11.0-py2.py3-none-any.whl (433 kB)\n",
            "\u001b[?25l     \u001b[90m━━━━━━━━━━━━━━━━━━━━━━━━━━━━━━━━━━━━━━━━\u001b[0m \u001b[32m0.0/433.8 kB\u001b[0m \u001b[31m?\u001b[0m eta \u001b[36m-:--:--\u001b[0m\r\u001b[2K     \u001b[91m━━━━━━━━━━━\u001b[0m\u001b[90m╺\u001b[0m\u001b[90m━━━━━━━━━━━━━━━━━━━━━━━━━━━━\u001b[0m \u001b[32m122.9/433.8 kB\u001b[0m \u001b[31m3.5 MB/s\u001b[0m eta \u001b[36m0:00:01\u001b[0m\r\u001b[2K     \u001b[90m━━━━━━━━━━━━━━━━━━━━━━━━━━━━━━━━━━━━━━━━\u001b[0m \u001b[32m433.8/433.8 kB\u001b[0m \u001b[31m6.8 MB/s\u001b[0m eta \u001b[36m0:00:00\u001b[0m\n",
            "\u001b[?25hInstalling collected packages: emoji\n",
            "Successfully installed emoji-2.11.0\n"
          ]
        }
      ],
      "source": [
        "import numpy as np\n",
        "!pip install emoji\n",
        "import pandas as pd\n",
        "import emoji\n",
        "import matplotlib.pyplot as plt\n",
        "\n"
      ]
    },
    {
      "cell_type": "code",
      "source": [],
      "metadata": {
        "id": "EoJnXy9NAyM7"
      },
      "execution_count": null,
      "outputs": []
    },
    {
      "cell_type": "code",
      "source": [
        "\n"
      ],
      "metadata": {
        "id": "g_k9FQPTVi2O"
      },
      "execution_count": null,
      "outputs": []
    },
    {
      "cell_type": "code",
      "source": [
        "import numpy as np\n",
        "import pandas as pd\n",
        "import emoji\n",
        "import matplotlib.pyplot as plt\n",
        "\n",
        "def read_csv(file_name):\n",
        "    # This function assumes that the first column contains the text and the last column contains the label\n",
        "    data = pd.read_csv(file_name)\n",
        "    X = data.iloc[:, 0].values  # Text data: only the first column\n",
        "    Y = data.iloc[:, -1].values   # Labels: the last column\n",
        "    return X, Y\n",
        "\n",
        "# Now you can read your split data using the custom function\n",
        "X_train, Y_train = read_csv('/content/train_data_with_column_name.csv')\n",
        "X_test, Y_test = read_csv('/content/tess_data.csv')\n",
        "\n",
        "# Verify the shape of the training and test sets\n",
        "print(\"Training set:\", X_train.shape, Y_train.shape)\n",
        "print(\"Test set:\", X_test.shape, Y_test.shape)\n",
        "\n",
        "# Find the maximum sentence length\n",
        "maxLen = len(max(X_train, key=lambda x: len(x.split())).split())\n",
        "\n",
        "print(maxLen)\n",
        "\n"
      ],
      "metadata": {
        "colab": {
          "base_uri": "https://localhost:8080/"
        },
        "id": "gdUjtH_zhfzp",
        "outputId": "6ba2ea39-369a-417e-cb62-b02da1f9cae5"
      },
      "execution_count": 2,
      "outputs": [
        {
          "output_type": "stream",
          "name": "stdout",
          "text": [
            "Training set: (128,) (128,)\n",
            "Test set: (56,) (56,)\n",
            "10\n"
          ]
        }
      ]
    },
    {
      "cell_type": "code",
      "source": [
        "for idx in range(10):\n",
        "    print(X_train[idx],Y_train[idx])"
      ],
      "metadata": {
        "colab": {
          "base_uri": "https://localhost:8080/"
        },
        "id": "bpMfDGeyt2tP",
        "outputId": "a507f32e-78da-4449-a82a-608b0708692f"
      },
      "execution_count": 3,
      "outputs": [
        {
          "output_type": "stream",
          "name": "stdout",
          "text": [
            "French macaroon is so tasty 4\n",
            "work is horrible 3\n",
            "I am upset 3\n",
            "throw the ball 1\n",
            "Good joke 2\n",
            "what is your favorite baseball game 1\n",
            "I cooked meat 4\n",
            "stop messing around 3\n",
            "I want chinese food 4\n",
            "Let us go play baseball 1\n"
          ]
        }
      ]
    },
    {
      "cell_type": "code",
      "source": [
        "print(Y_test.shape)"
      ],
      "metadata": {
        "colab": {
          "base_uri": "https://localhost:8080/"
        },
        "id": "Y-P8iRrI59S2",
        "outputId": "8060ac01-358f-4a84-9e19-182ce2ba32f1"
      },
      "execution_count": 4,
      "outputs": [
        {
          "output_type": "stream",
          "name": "stdout",
          "text": [
            "(56,)\n"
          ]
        }
      ]
    },
    {
      "cell_type": "code",
      "source": [
        "import pandas as pd\n",
        "\n",
        "# Load the dataset\n",
        "dataset_path = '/content/train_data_with_column_name.csv'  # Replace with the path to your dataset\n",
        "data = pd.read_csv(dataset_path)\n",
        "\n",
        "# Display the first few entries in the dataset\n",
        "print(data.head())\n",
        "\n",
        "# If you want to see more specific rows or a random sample\n",
        "print(data.sample(5))  # Display a random sample of 5 entries\n"
      ],
      "metadata": {
        "colab": {
          "base_uri": "https://localhost:8080/"
        },
        "id": "ma5k6rBwi_Gw",
        "outputId": "1db1ee34-cdec-447a-fe0d-5802c615fbf4"
      },
      "execution_count": 5,
      "outputs": [
        {
          "output_type": "stream",
          "name": "stdout",
          "text": [
            "                          Text  Label\n",
            "0  French macaroon is so tasty      4\n",
            "1             work is horrible      3\n",
            "2                   I am upset      3\n",
            "3               throw the ball      1\n",
            "4                    Good joke      2\n",
            "                                Text  Label\n",
            "103                she is attractive      0\n",
            "61   she takes forever to get ready       3\n",
            "86      Sounds like a fun plan ha ha      2\n",
            "118              That catcher sucks       1\n",
            "36                  Great so awesome      2\n"
          ]
        }
      ]
    },
    {
      "cell_type": "code",
      "source": [],
      "metadata": {
        "id": "sXBefcOd_Kw0"
      },
      "execution_count": null,
      "outputs": []
    },
    {
      "cell_type": "code",
      "source": [],
      "metadata": {
        "id": "h86EyeJlARbH"
      },
      "execution_count": null,
      "outputs": []
    },
    {
      "cell_type": "code",
      "source": [],
      "metadata": {
        "id": "gxg351Y7DsBX"
      },
      "execution_count": null,
      "outputs": []
    },
    {
      "cell_type": "code",
      "source": [
        "import pandas as pd\n",
        "data='/content/tess_data.csv'\n",
        "test_data=pd.read_csv(data)\n",
        "test_data.head()"
      ],
      "metadata": {
        "colab": {
          "base_uri": "https://localhost:8080/",
          "height": 256
        },
        "id": "cAecghZqD4Oi",
        "outputId": "a5ae95a4-173a-456c-8f8c-54e25d9cc8d8"
      },
      "execution_count": 6,
      "outputs": [
        {
          "output_type": "execute_result",
          "data": {
            "text/plain": [
              "                        Text  Label\n",
              "0              I want to eat      4\n",
              "1          he did not answer      3\n",
              "2   he got a very nice raise      2\n",
              "3  she got me a nice present      2\n",
              "4   ha ha ha it was so funny      2"
            ],
            "text/html": [
              "\n",
              "  <div id=\"df-6e4b6873-310d-4536-80bf-4a7570c42f56\" class=\"colab-df-container\">\n",
              "    <div>\n",
              "<style scoped>\n",
              "    .dataframe tbody tr th:only-of-type {\n",
              "        vertical-align: middle;\n",
              "    }\n",
              "\n",
              "    .dataframe tbody tr th {\n",
              "        vertical-align: top;\n",
              "    }\n",
              "\n",
              "    .dataframe thead th {\n",
              "        text-align: right;\n",
              "    }\n",
              "</style>\n",
              "<table border=\"1\" class=\"dataframe\">\n",
              "  <thead>\n",
              "    <tr style=\"text-align: right;\">\n",
              "      <th></th>\n",
              "      <th>Text</th>\n",
              "      <th>Label</th>\n",
              "    </tr>\n",
              "  </thead>\n",
              "  <tbody>\n",
              "    <tr>\n",
              "      <th>0</th>\n",
              "      <td>I want to eat</td>\n",
              "      <td>4</td>\n",
              "    </tr>\n",
              "    <tr>\n",
              "      <th>1</th>\n",
              "      <td>he did not answer</td>\n",
              "      <td>3</td>\n",
              "    </tr>\n",
              "    <tr>\n",
              "      <th>2</th>\n",
              "      <td>he got a very nice raise</td>\n",
              "      <td>2</td>\n",
              "    </tr>\n",
              "    <tr>\n",
              "      <th>3</th>\n",
              "      <td>she got me a nice present</td>\n",
              "      <td>2</td>\n",
              "    </tr>\n",
              "    <tr>\n",
              "      <th>4</th>\n",
              "      <td>ha ha ha it was so funny</td>\n",
              "      <td>2</td>\n",
              "    </tr>\n",
              "  </tbody>\n",
              "</table>\n",
              "</div>\n",
              "    <div class=\"colab-df-buttons\">\n",
              "\n",
              "  <div class=\"colab-df-container\">\n",
              "    <button class=\"colab-df-convert\" onclick=\"convertToInteractive('df-6e4b6873-310d-4536-80bf-4a7570c42f56')\"\n",
              "            title=\"Convert this dataframe to an interactive table.\"\n",
              "            style=\"display:none;\">\n",
              "\n",
              "  <svg xmlns=\"http://www.w3.org/2000/svg\" height=\"24px\" viewBox=\"0 -960 960 960\">\n",
              "    <path d=\"M120-120v-720h720v720H120Zm60-500h600v-160H180v160Zm220 220h160v-160H400v160Zm0 220h160v-160H400v160ZM180-400h160v-160H180v160Zm440 0h160v-160H620v160ZM180-180h160v-160H180v160Zm440 0h160v-160H620v160Z\"/>\n",
              "  </svg>\n",
              "    </button>\n",
              "\n",
              "  <style>\n",
              "    .colab-df-container {\n",
              "      display:flex;\n",
              "      gap: 12px;\n",
              "    }\n",
              "\n",
              "    .colab-df-convert {\n",
              "      background-color: #E8F0FE;\n",
              "      border: none;\n",
              "      border-radius: 50%;\n",
              "      cursor: pointer;\n",
              "      display: none;\n",
              "      fill: #1967D2;\n",
              "      height: 32px;\n",
              "      padding: 0 0 0 0;\n",
              "      width: 32px;\n",
              "    }\n",
              "\n",
              "    .colab-df-convert:hover {\n",
              "      background-color: #E2EBFA;\n",
              "      box-shadow: 0px 1px 2px rgba(60, 64, 67, 0.3), 0px 1px 3px 1px rgba(60, 64, 67, 0.15);\n",
              "      fill: #174EA6;\n",
              "    }\n",
              "\n",
              "    .colab-df-buttons div {\n",
              "      margin-bottom: 4px;\n",
              "    }\n",
              "\n",
              "    [theme=dark] .colab-df-convert {\n",
              "      background-color: #3B4455;\n",
              "      fill: #D2E3FC;\n",
              "    }\n",
              "\n",
              "    [theme=dark] .colab-df-convert:hover {\n",
              "      background-color: #434B5C;\n",
              "      box-shadow: 0px 1px 3px 1px rgba(0, 0, 0, 0.15);\n",
              "      filter: drop-shadow(0px 1px 2px rgba(0, 0, 0, 0.3));\n",
              "      fill: #FFFFFF;\n",
              "    }\n",
              "  </style>\n",
              "\n",
              "    <script>\n",
              "      const buttonEl =\n",
              "        document.querySelector('#df-6e4b6873-310d-4536-80bf-4a7570c42f56 button.colab-df-convert');\n",
              "      buttonEl.style.display =\n",
              "        google.colab.kernel.accessAllowed ? 'block' : 'none';\n",
              "\n",
              "      async function convertToInteractive(key) {\n",
              "        const element = document.querySelector('#df-6e4b6873-310d-4536-80bf-4a7570c42f56');\n",
              "        const dataTable =\n",
              "          await google.colab.kernel.invokeFunction('convertToInteractive',\n",
              "                                                    [key], {});\n",
              "        if (!dataTable) return;\n",
              "\n",
              "        const docLinkHtml = 'Like what you see? Visit the ' +\n",
              "          '<a target=\"_blank\" href=https://colab.research.google.com/notebooks/data_table.ipynb>data table notebook</a>'\n",
              "          + ' to learn more about interactive tables.';\n",
              "        element.innerHTML = '';\n",
              "        dataTable['output_type'] = 'display_data';\n",
              "        await google.colab.output.renderOutput(dataTable, element);\n",
              "        const docLink = document.createElement('div');\n",
              "        docLink.innerHTML = docLinkHtml;\n",
              "        element.appendChild(docLink);\n",
              "      }\n",
              "    </script>\n",
              "  </div>\n",
              "\n",
              "\n",
              "<div id=\"df-06c65150-53f4-42e8-bc98-16a13d94042e\">\n",
              "  <button class=\"colab-df-quickchart\" onclick=\"quickchart('df-06c65150-53f4-42e8-bc98-16a13d94042e')\"\n",
              "            title=\"Suggest charts\"\n",
              "            style=\"display:none;\">\n",
              "\n",
              "<svg xmlns=\"http://www.w3.org/2000/svg\" height=\"24px\"viewBox=\"0 0 24 24\"\n",
              "     width=\"24px\">\n",
              "    <g>\n",
              "        <path d=\"M19 3H5c-1.1 0-2 .9-2 2v14c0 1.1.9 2 2 2h14c1.1 0 2-.9 2-2V5c0-1.1-.9-2-2-2zM9 17H7v-7h2v7zm4 0h-2V7h2v10zm4 0h-2v-4h2v4z\"/>\n",
              "    </g>\n",
              "</svg>\n",
              "  </button>\n",
              "\n",
              "<style>\n",
              "  .colab-df-quickchart {\n",
              "      --bg-color: #E8F0FE;\n",
              "      --fill-color: #1967D2;\n",
              "      --hover-bg-color: #E2EBFA;\n",
              "      --hover-fill-color: #174EA6;\n",
              "      --disabled-fill-color: #AAA;\n",
              "      --disabled-bg-color: #DDD;\n",
              "  }\n",
              "\n",
              "  [theme=dark] .colab-df-quickchart {\n",
              "      --bg-color: #3B4455;\n",
              "      --fill-color: #D2E3FC;\n",
              "      --hover-bg-color: #434B5C;\n",
              "      --hover-fill-color: #FFFFFF;\n",
              "      --disabled-bg-color: #3B4455;\n",
              "      --disabled-fill-color: #666;\n",
              "  }\n",
              "\n",
              "  .colab-df-quickchart {\n",
              "    background-color: var(--bg-color);\n",
              "    border: none;\n",
              "    border-radius: 50%;\n",
              "    cursor: pointer;\n",
              "    display: none;\n",
              "    fill: var(--fill-color);\n",
              "    height: 32px;\n",
              "    padding: 0;\n",
              "    width: 32px;\n",
              "  }\n",
              "\n",
              "  .colab-df-quickchart:hover {\n",
              "    background-color: var(--hover-bg-color);\n",
              "    box-shadow: 0 1px 2px rgba(60, 64, 67, 0.3), 0 1px 3px 1px rgba(60, 64, 67, 0.15);\n",
              "    fill: var(--button-hover-fill-color);\n",
              "  }\n",
              "\n",
              "  .colab-df-quickchart-complete:disabled,\n",
              "  .colab-df-quickchart-complete:disabled:hover {\n",
              "    background-color: var(--disabled-bg-color);\n",
              "    fill: var(--disabled-fill-color);\n",
              "    box-shadow: none;\n",
              "  }\n",
              "\n",
              "  .colab-df-spinner {\n",
              "    border: 2px solid var(--fill-color);\n",
              "    border-color: transparent;\n",
              "    border-bottom-color: var(--fill-color);\n",
              "    animation:\n",
              "      spin 1s steps(1) infinite;\n",
              "  }\n",
              "\n",
              "  @keyframes spin {\n",
              "    0% {\n",
              "      border-color: transparent;\n",
              "      border-bottom-color: var(--fill-color);\n",
              "      border-left-color: var(--fill-color);\n",
              "    }\n",
              "    20% {\n",
              "      border-color: transparent;\n",
              "      border-left-color: var(--fill-color);\n",
              "      border-top-color: var(--fill-color);\n",
              "    }\n",
              "    30% {\n",
              "      border-color: transparent;\n",
              "      border-left-color: var(--fill-color);\n",
              "      border-top-color: var(--fill-color);\n",
              "      border-right-color: var(--fill-color);\n",
              "    }\n",
              "    40% {\n",
              "      border-color: transparent;\n",
              "      border-right-color: var(--fill-color);\n",
              "      border-top-color: var(--fill-color);\n",
              "    }\n",
              "    60% {\n",
              "      border-color: transparent;\n",
              "      border-right-color: var(--fill-color);\n",
              "    }\n",
              "    80% {\n",
              "      border-color: transparent;\n",
              "      border-right-color: var(--fill-color);\n",
              "      border-bottom-color: var(--fill-color);\n",
              "    }\n",
              "    90% {\n",
              "      border-color: transparent;\n",
              "      border-bottom-color: var(--fill-color);\n",
              "    }\n",
              "  }\n",
              "</style>\n",
              "\n",
              "  <script>\n",
              "    async function quickchart(key) {\n",
              "      const quickchartButtonEl =\n",
              "        document.querySelector('#' + key + ' button');\n",
              "      quickchartButtonEl.disabled = true;  // To prevent multiple clicks.\n",
              "      quickchartButtonEl.classList.add('colab-df-spinner');\n",
              "      try {\n",
              "        const charts = await google.colab.kernel.invokeFunction(\n",
              "            'suggestCharts', [key], {});\n",
              "      } catch (error) {\n",
              "        console.error('Error during call to suggestCharts:', error);\n",
              "      }\n",
              "      quickchartButtonEl.classList.remove('colab-df-spinner');\n",
              "      quickchartButtonEl.classList.add('colab-df-quickchart-complete');\n",
              "    }\n",
              "    (() => {\n",
              "      let quickchartButtonEl =\n",
              "        document.querySelector('#df-06c65150-53f4-42e8-bc98-16a13d94042e button');\n",
              "      quickchartButtonEl.style.display =\n",
              "        google.colab.kernel.accessAllowed ? 'block' : 'none';\n",
              "    })();\n",
              "  </script>\n",
              "</div>\n",
              "\n",
              "    </div>\n",
              "  </div>\n"
            ],
            "application/vnd.google.colaboratory.intrinsic+json": {
              "type": "dataframe",
              "variable_name": "test_data",
              "summary": "{\n  \"name\": \"test_data\",\n  \"rows\": 56,\n  \"fields\": [\n    {\n      \"column\": \"Text\",\n      \"properties\": {\n        \"dtype\": \"string\",\n        \"num_unique_values\": 55,\n        \"samples\": [\n          \"My life is so boring\",\n          \"he is a good friend\",\n          \"she said yes\"\n        ],\n        \"semantic_type\": \"\",\n        \"description\": \"\"\n      }\n    },\n    {\n      \"column\": \"Label\",\n      \"properties\": {\n        \"dtype\": \"number\",\n        \"std\": 1,\n        \"min\": 0,\n        \"max\": 4,\n        \"num_unique_values\": 5,\n        \"samples\": [\n          3,\n          0,\n          2\n        ],\n        \"semantic_type\": \"\",\n        \"description\": \"\"\n      }\n    }\n  ]\n}"
            }
          },
          "metadata": {},
          "execution_count": 6
        }
      ]
    },
    {
      "cell_type": "code",
      "source": [
        "maxLen = len(max(X_train, key=lambda x: len(x.split())).split())"
      ],
      "metadata": {
        "id": "IzF14wZHEV_b"
      },
      "execution_count": 7,
      "outputs": []
    },
    {
      "cell_type": "code",
      "source": [
        "print(maxLen)"
      ],
      "metadata": {
        "colab": {
          "base_uri": "https://localhost:8080/"
        },
        "id": "KBX3XMPyGI9L",
        "outputId": "16b30c74-5450-492e-8de2-2926ebdddd43"
      },
      "execution_count": 8,
      "outputs": [
        {
          "output_type": "stream",
          "name": "stdout",
          "text": [
            "10\n"
          ]
        }
      ]
    },
    {
      "cell_type": "code",
      "source": [],
      "metadata": {
        "id": "tC1r4RwXGNGc"
      },
      "execution_count": null,
      "outputs": []
    },
    {
      "cell_type": "code",
      "source": [],
      "metadata": {
        "id": "2y7XG9U2IBqe"
      },
      "execution_count": null,
      "outputs": []
    },
    {
      "cell_type": "code",
      "source": [
        "import pandas as pd\n",
        "\n",
        "# Define the mapping from label to emoji sign\n",
        "emoji_map = {\n",
        "    0: \"❤️\",\n",
        "    1: \"⚾\",\n",
        "    2: \"😄\",\n",
        "    3: \"😞\",\n",
        "    4: \"🍴\"\n",
        "}\n",
        "\n",
        "# Load your dataset\n",
        "data = pd.read_csv('/content/train_data_with_column_name.csv')  # Replace with the actual path\n",
        "\n",
        "# Check the column names to ensure the 'Label' column exists\n",
        "print(\"Column names:\", data.columns)\n",
        "\n",
        "# If 'Label' column exists, then map the emojis\n",
        "if 'Label' in data.columns:\n",
        "    data['Emoji'] = data['Label'].map(emoji_map)\n",
        "else:\n",
        "    print(\"The DataFrame does not contain a 'Label' column. Please check the column names.\")\n",
        "\n",
        "# Display the updated DataFrame\n",
        "print(data.head())\n"
      ],
      "metadata": {
        "colab": {
          "base_uri": "https://localhost:8080/"
        },
        "id": "pLW2GjXDKHPi",
        "outputId": "66316214-ab2e-46be-e91a-2d50ab0de7e2"
      },
      "execution_count": 9,
      "outputs": [
        {
          "output_type": "stream",
          "name": "stdout",
          "text": [
            "Column names: Index(['Text', 'Label'], dtype='object')\n",
            "                          Text  Label Emoji\n",
            "0  French macaroon is so tasty      4     🍴\n",
            "1             work is horrible      3     😞\n",
            "2                   I am upset      3     😞\n",
            "3               throw the ball      1     ⚾\n",
            "4                    Good joke      2     😄\n"
          ]
        }
      ]
    },
    {
      "cell_type": "code",
      "source": [],
      "metadata": {
        "id": "164m2qWzKX_s"
      },
      "execution_count": null,
      "outputs": []
    },
    {
      "cell_type": "code",
      "source": [
        "import pandas as pd\n",
        "\n",
        "# Define the emoji mapping\n",
        "emoji_map = {\n",
        "    0: \"❤️\",  # heart\n",
        "    1: \"⚾\",  # baseball\n",
        "    2: \"😄\",  # smile\n",
        "    3: \"😞\",  # disappointed\n",
        "    4: \"🍴\"   # fork and knife\n",
        "}\n",
        "\n",
        "# Load the dataset\n",
        "data = pd.read_csv('/content/train_data_with_column_name.csv')\n",
        "\n",
        "# Add the emoji column based on the 'Label' column\n",
        "data['Emoji'] = data['Label'].map(emoji_map)\n",
        "\n",
        "# Save the updated DataFrame to a new CSV file, if needed\n",
        "data.to_csv('train_data.csv', index=False)  # Replace with your desired path\n",
        "\n",
        "# Display the DataFrame with the emoji column\n",
        "print(data.head())\n"
      ],
      "metadata": {
        "colab": {
          "base_uri": "https://localhost:8080/"
        },
        "id": "16jfCH08LIwE",
        "outputId": "323423a6-1dce-470e-8900-4bf3684a2b35"
      },
      "execution_count": 10,
      "outputs": [
        {
          "output_type": "stream",
          "name": "stdout",
          "text": [
            "                          Text  Label Emoji\n",
            "0  French macaroon is so tasty      4     🍴\n",
            "1             work is horrible      3     😞\n",
            "2                   I am upset      3     😞\n",
            "3               throw the ball      1     ⚾\n",
            "4                    Good joke      2     😄\n"
          ]
        }
      ]
    },
    {
      "cell_type": "code",
      "source": [
        "import numpy as np\n",
        "import pandas as pd\n",
        "import matplotlib.pyplot as plt\n",
        "\n",
        "# Define the emoji mapping\n",
        "emoji_map = {\n",
        "    0: \"❤️\",  # heart\n",
        "    1: \"⚾\",  # baseball\n",
        "    2: \"😄\",  # smile\n",
        "    3: \"😞\",  # disappointed\n",
        "    4: \"🍴\"   # fork and knife\n",
        "}\n",
        "\n",
        "def read_csv(file_name):\n",
        "    # This function assumes that the first column contains the text and the last column contains the label\n",
        "    data = pd.read_csv(file_name)\n",
        "    X = data.iloc[:, 0].values  # Text data: only the first column\n",
        "    Y = data.iloc[:, -1].values   # Labels: the last column\n",
        "    return X, Y\n",
        "\n",
        "# Path to the datasets\n",
        "train_file_path = '/content/train_data_with_column_name.csv'\n",
        "test_file_path = '/content/tess_data.csv'\n",
        "\n",
        "# Now you can read your split data using the custom function\n",
        "X_train, Y_train = read_csv(train_file_path)\n",
        "X_test, Y_test = read_csv(test_file_path)\n",
        "\n",
        "# Verify the shape of the training and test sets\n",
        "print(\"Training set:\", X_train.shape, Y_train.shape)\n",
        "print(\"Test set:\", X_test.shape, Y_test.shape)\n",
        "\n",
        "# Find the maximum sentence length\n",
        "maxLen = len(max(X_train, key=lambda x: len(x.split())).split())\n",
        "\n",
        "print(maxLen)\n",
        "\n",
        "# Print the first 10 sentences and their labels with emojis\n",
        "for idx in range(10):\n",
        "    print(X_train[idx], emoji_map[Y_train[idx]])\n"
      ],
      "metadata": {
        "colab": {
          "base_uri": "https://localhost:8080/"
        },
        "id": "27WJC0p4L6Px",
        "outputId": "9816ca3f-8b2a-4e63-f30d-ac5b68bfe3ff"
      },
      "execution_count": 11,
      "outputs": [
        {
          "output_type": "stream",
          "name": "stdout",
          "text": [
            "Training set: (128,) (128,)\n",
            "Test set: (56,) (56,)\n",
            "10\n",
            "French macaroon is so tasty 🍴\n",
            "work is horrible 😞\n",
            "I am upset 😞\n",
            "throw the ball ⚾\n",
            "Good joke 😄\n",
            "what is your favorite baseball game ⚾\n",
            "I cooked meat 🍴\n",
            "stop messing around 😞\n",
            "I want chinese food 🍴\n",
            "Let us go play baseball ⚾\n"
          ]
        }
      ]
    },
    {
      "cell_type": "code",
      "source": [
        "for idx in range(20):\n",
        "    print(X_train[idx], emoji_map[Y_train[idx]])\n"
      ],
      "metadata": {
        "colab": {
          "base_uri": "https://localhost:8080/"
        },
        "id": "ap74HsA3Ok1p",
        "outputId": "90a30b25-7d20-496e-edb6-2d725194034a"
      },
      "execution_count": 12,
      "outputs": [
        {
          "output_type": "stream",
          "name": "stdout",
          "text": [
            "French macaroon is so tasty 🍴\n",
            "work is horrible 😞\n",
            "I am upset 😞\n",
            "throw the ball ⚾\n",
            "Good joke 😄\n",
            "what is your favorite baseball game ⚾\n",
            "I cooked meat 🍴\n",
            "stop messing around 😞\n",
            "I want chinese food 🍴\n",
            "Let us go play baseball ⚾\n",
            "you are failing this exercise 😞\n",
            "yesterday we lost again 😞\n",
            "Good job 😄\n",
            "ha ha ha it was so funny 😄\n",
            "I will have a cheese cake 🍴\n",
            "Why are you feeling bad 😞\n",
            "I want to joke 😄\n",
            "I never said yes for this 😞\n",
            "the party is cancelled 😞\n",
            "where is the ball ⚾\n"
          ]
        }
      ]
    },
    {
      "cell_type": "code",
      "source": [
        "Y_train = np.array(Y_train)\n",
        "Y_test = np.array(Y_test)\n",
        "print(Y_train)\n",
        "print(Y_train.shape)"
      ],
      "metadata": {
        "colab": {
          "base_uri": "https://localhost:8080/"
        },
        "id": "pMSmLHj_O7bx",
        "outputId": "39da0408-38d5-46b7-eb11-492945973a0a"
      },
      "execution_count": 13,
      "outputs": [
        {
          "output_type": "stream",
          "name": "stdout",
          "text": [
            "[4 3 3 1 2 1 4 3 4 1 3 3 2 2 4 3 2 3 3 1 3 2 2 2 0 1 0 4 2 0 2 0 0 3 4 0 2\n",
            " 1 3 1 0 4 0 3 0 4 2 3 4 2 2 3 0 2 2 3 2 3 2 2 3 3 0 2 3 0 2 0 0 2 3 2 4 1\n",
            " 3 3 0 0 3 2 0 3 0 2 2 4 2 2 0 0 2 3 0 4 2 1 2 3 3 2 3 0 3 0 2 0 2 3 4 3 1\n",
            " 3 4 3 2 3 3 3 1 4 4 2 2 1 1 2 3 2]\n",
            "(128,)\n"
          ]
        }
      ]
    },
    {
      "cell_type": "code",
      "source": [
        "import numpy as np\n",
        "\n",
        "def convert_to_one_hot(Y, C):\n",
        "    Y = np.array(Y, dtype=int)  # Ensure the labels are of type int for use as indices\n",
        "    Y_one_hot = np.eye(C)[Y.reshape(-1)]  # Create one-hot encoding\n",
        "    return Y_one_hot\n",
        "\n",
        "# Example usage:\n",
        "# Assuming Y_train and Y_test are numpy arrays with integer labels\n",
        "C = 5  # Number of classes\n",
        "Y_train = np.array(Y_train)  # Example Y_train\n",
        "Y_test = np.array(Y_test)   # Example Y_test\n",
        "\n",
        "Y_oh_train = convert_to_one_hot(Y_train, C)\n",
        "Y_oh_test = convert_to_one_hot(Y_test, C)\n",
        "print(Y_oh_test.shape)\n",
        "print(Y_oh_train.shape)\n",
        "print(\"One-hot Y_train:\\n\", Y_oh_train)\n",
        "print('')\n",
        "print(\"One-hot Y_test:\\n\", Y_oh_test)\n"
      ],
      "metadata": {
        "colab": {
          "base_uri": "https://localhost:8080/"
        },
        "id": "KfK5D5lrSsiO",
        "outputId": "e07d8049-9107-4589-bbd1-d959acefa0bb"
      },
      "execution_count": 14,
      "outputs": [
        {
          "output_type": "stream",
          "name": "stdout",
          "text": [
            "(56, 5)\n",
            "(128, 5)\n",
            "One-hot Y_train:\n",
            " [[0. 0. 0. 0. 1.]\n",
            " [0. 0. 0. 1. 0.]\n",
            " [0. 0. 0. 1. 0.]\n",
            " [0. 1. 0. 0. 0.]\n",
            " [0. 0. 1. 0. 0.]\n",
            " [0. 1. 0. 0. 0.]\n",
            " [0. 0. 0. 0. 1.]\n",
            " [0. 0. 0. 1. 0.]\n",
            " [0. 0. 0. 0. 1.]\n",
            " [0. 1. 0. 0. 0.]\n",
            " [0. 0. 0. 1. 0.]\n",
            " [0. 0. 0. 1. 0.]\n",
            " [0. 0. 1. 0. 0.]\n",
            " [0. 0. 1. 0. 0.]\n",
            " [0. 0. 0. 0. 1.]\n",
            " [0. 0. 0. 1. 0.]\n",
            " [0. 0. 1. 0. 0.]\n",
            " [0. 0. 0. 1. 0.]\n",
            " [0. 0. 0. 1. 0.]\n",
            " [0. 1. 0. 0. 0.]\n",
            " [0. 0. 0. 1. 0.]\n",
            " [0. 0. 1. 0. 0.]\n",
            " [0. 0. 1. 0. 0.]\n",
            " [0. 0. 1. 0. 0.]\n",
            " [1. 0. 0. 0. 0.]\n",
            " [0. 1. 0. 0. 0.]\n",
            " [1. 0. 0. 0. 0.]\n",
            " [0. 0. 0. 0. 1.]\n",
            " [0. 0. 1. 0. 0.]\n",
            " [1. 0. 0. 0. 0.]\n",
            " [0. 0. 1. 0. 0.]\n",
            " [1. 0. 0. 0. 0.]\n",
            " [1. 0. 0. 0. 0.]\n",
            " [0. 0. 0. 1. 0.]\n",
            " [0. 0. 0. 0. 1.]\n",
            " [1. 0. 0. 0. 0.]\n",
            " [0. 0. 1. 0. 0.]\n",
            " [0. 1. 0. 0. 0.]\n",
            " [0. 0. 0. 1. 0.]\n",
            " [0. 1. 0. 0. 0.]\n",
            " [1. 0. 0. 0. 0.]\n",
            " [0. 0. 0. 0. 1.]\n",
            " [1. 0. 0. 0. 0.]\n",
            " [0. 0. 0. 1. 0.]\n",
            " [1. 0. 0. 0. 0.]\n",
            " [0. 0. 0. 0. 1.]\n",
            " [0. 0. 1. 0. 0.]\n",
            " [0. 0. 0. 1. 0.]\n",
            " [0. 0. 0. 0. 1.]\n",
            " [0. 0. 1. 0. 0.]\n",
            " [0. 0. 1. 0. 0.]\n",
            " [0. 0. 0. 1. 0.]\n",
            " [1. 0. 0. 0. 0.]\n",
            " [0. 0. 1. 0. 0.]\n",
            " [0. 0. 1. 0. 0.]\n",
            " [0. 0. 0. 1. 0.]\n",
            " [0. 0. 1. 0. 0.]\n",
            " [0. 0. 0. 1. 0.]\n",
            " [0. 0. 1. 0. 0.]\n",
            " [0. 0. 1. 0. 0.]\n",
            " [0. 0. 0. 1. 0.]\n",
            " [0. 0. 0. 1. 0.]\n",
            " [1. 0. 0. 0. 0.]\n",
            " [0. 0. 1. 0. 0.]\n",
            " [0. 0. 0. 1. 0.]\n",
            " [1. 0. 0. 0. 0.]\n",
            " [0. 0. 1. 0. 0.]\n",
            " [1. 0. 0. 0. 0.]\n",
            " [1. 0. 0. 0. 0.]\n",
            " [0. 0. 1. 0. 0.]\n",
            " [0. 0. 0. 1. 0.]\n",
            " [0. 0. 1. 0. 0.]\n",
            " [0. 0. 0. 0. 1.]\n",
            " [0. 1. 0. 0. 0.]\n",
            " [0. 0. 0. 1. 0.]\n",
            " [0. 0. 0. 1. 0.]\n",
            " [1. 0. 0. 0. 0.]\n",
            " [1. 0. 0. 0. 0.]\n",
            " [0. 0. 0. 1. 0.]\n",
            " [0. 0. 1. 0. 0.]\n",
            " [1. 0. 0. 0. 0.]\n",
            " [0. 0. 0. 1. 0.]\n",
            " [1. 0. 0. 0. 0.]\n",
            " [0. 0. 1. 0. 0.]\n",
            " [0. 0. 1. 0. 0.]\n",
            " [0. 0. 0. 0. 1.]\n",
            " [0. 0. 1. 0. 0.]\n",
            " [0. 0. 1. 0. 0.]\n",
            " [1. 0. 0. 0. 0.]\n",
            " [1. 0. 0. 0. 0.]\n",
            " [0. 0. 1. 0. 0.]\n",
            " [0. 0. 0. 1. 0.]\n",
            " [1. 0. 0. 0. 0.]\n",
            " [0. 0. 0. 0. 1.]\n",
            " [0. 0. 1. 0. 0.]\n",
            " [0. 1. 0. 0. 0.]\n",
            " [0. 0. 1. 0. 0.]\n",
            " [0. 0. 0. 1. 0.]\n",
            " [0. 0. 0. 1. 0.]\n",
            " [0. 0. 1. 0. 0.]\n",
            " [0. 0. 0. 1. 0.]\n",
            " [1. 0. 0. 0. 0.]\n",
            " [0. 0. 0. 1. 0.]\n",
            " [1. 0. 0. 0. 0.]\n",
            " [0. 0. 1. 0. 0.]\n",
            " [1. 0. 0. 0. 0.]\n",
            " [0. 0. 1. 0. 0.]\n",
            " [0. 0. 0. 1. 0.]\n",
            " [0. 0. 0. 0. 1.]\n",
            " [0. 0. 0. 1. 0.]\n",
            " [0. 1. 0. 0. 0.]\n",
            " [0. 0. 0. 1. 0.]\n",
            " [0. 0. 0. 0. 1.]\n",
            " [0. 0. 0. 1. 0.]\n",
            " [0. 0. 1. 0. 0.]\n",
            " [0. 0. 0. 1. 0.]\n",
            " [0. 0. 0. 1. 0.]\n",
            " [0. 0. 0. 1. 0.]\n",
            " [0. 1. 0. 0. 0.]\n",
            " [0. 0. 0. 0. 1.]\n",
            " [0. 0. 0. 0. 1.]\n",
            " [0. 0. 1. 0. 0.]\n",
            " [0. 0. 1. 0. 0.]\n",
            " [0. 1. 0. 0. 0.]\n",
            " [0. 1. 0. 0. 0.]\n",
            " [0. 0. 1. 0. 0.]\n",
            " [0. 0. 0. 1. 0.]\n",
            " [0. 0. 1. 0. 0.]]\n",
            "\n",
            "One-hot Y_test:\n",
            " [[0. 0. 0. 0. 1.]\n",
            " [0. 0. 0. 1. 0.]\n",
            " [0. 0. 1. 0. 0.]\n",
            " [0. 0. 1. 0. 0.]\n",
            " [0. 0. 1. 0. 0.]\n",
            " [0. 0. 1. 0. 0.]\n",
            " [0. 0. 0. 1. 0.]\n",
            " [0. 0. 1. 0. 0.]\n",
            " [0. 0. 0. 0. 1.]\n",
            " [0. 0. 1. 0. 0.]\n",
            " [0. 1. 0. 0. 0.]\n",
            " [0. 0. 0. 1. 0.]\n",
            " [0. 0. 0. 1. 0.]\n",
            " [0. 0. 0. 1. 0.]\n",
            " [0. 1. 0. 0. 0.]\n",
            " [0. 0. 0. 1. 0.]\n",
            " [0. 0. 0. 1. 0.]\n",
            " [0. 0. 1. 0. 0.]\n",
            " [0. 0. 0. 1. 0.]\n",
            " [0. 0. 0. 0. 1.]\n",
            " [1. 0. 0. 0. 0.]\n",
            " [0. 0. 1. 0. 0.]\n",
            " [0. 0. 0. 0. 1.]\n",
            " [0. 0. 0. 1. 0.]\n",
            " [0. 0. 0. 1. 0.]\n",
            " [0. 0. 0. 1. 0.]\n",
            " [0. 1. 0. 0. 0.]\n",
            " [1. 0. 0. 0. 0.]\n",
            " [0. 1. 0. 0. 0.]\n",
            " [0. 0. 1. 0. 0.]\n",
            " [1. 0. 0. 0. 0.]\n",
            " [0. 1. 0. 0. 0.]\n",
            " [0. 0. 0. 1. 0.]\n",
            " [0. 0. 1. 0. 0.]\n",
            " [0. 0. 1. 0. 0.]\n",
            " [0. 1. 0. 0. 0.]\n",
            " [0. 0. 1. 0. 0.]\n",
            " [0. 0. 0. 0. 1.]\n",
            " [0. 0. 0. 0. 1.]\n",
            " [0. 0. 1. 0. 0.]\n",
            " [0. 1. 0. 0. 0.]\n",
            " [1. 0. 0. 0. 0.]\n",
            " [1. 0. 0. 0. 0.]\n",
            " [0. 1. 0. 0. 0.]\n",
            " [0. 0. 1. 0. 0.]\n",
            " [1. 0. 0. 0. 0.]\n",
            " [0. 0. 1. 0. 0.]\n",
            " [0. 0. 1. 0. 0.]\n",
            " [0. 0. 0. 1. 0.]\n",
            " [0. 0. 0. 1. 0.]\n",
            " [0. 0. 0. 1. 0.]\n",
            " [1. 0. 0. 0. 0.]\n",
            " [0. 0. 0. 1. 0.]\n",
            " [0. 0. 1. 0. 0.]\n",
            " [0. 0. 1. 0. 0.]\n",
            " [0. 0. 0. 0. 1.]]\n"
          ]
        }
      ]
    },
    {
      "cell_type": "code",
      "source": [
        "def label_to_emoji(label):\n",
        "    # emoji_map as defined\n",
        "    emoji_map = {\n",
        "        0: \"❤️\",  # heart\n",
        "        1: \"⚾\",  # baseball\n",
        "        2: \"😄\",  # smile\n",
        "        3: \"😞\",  # disappointed\n",
        "        4: \"🍴\"   # fork and knife\n",
        "    }\n",
        "    return emoji_map.get(label, \"Label does not exist\")  # Return the emoji or a default message\n"
      ],
      "metadata": {
        "id": "qkSdSFxwXSZG"
      },
      "execution_count": 15,
      "outputs": []
    },
    {
      "cell_type": "code",
      "source": [
        "idx = 52\n",
        "print(f\"Sentence '{X_train[idx]}' has label index {Y_train[idx]}, which is emoji {label_to_emoji(Y_train[idx])}\", )\n",
        "print(f\"Label index {Y_train[idx]} in one-hot encoding format is {Y_oh_train[idx]}\")"
      ],
      "metadata": {
        "colab": {
          "base_uri": "https://localhost:8080/"
        },
        "id": "Sri0nSWLYdhT",
        "outputId": "eecd4cc9-5658-44d2-a4c3-2c32e0e2e08e"
      },
      "execution_count": 16,
      "outputs": [
        {
          "output_type": "stream",
          "name": "stdout",
          "text": [
            "Sentence 'I love taking breaks' has label index 0, which is emoji ❤️\n",
            "Label index 0 in one-hot encoding format is [1. 0. 0. 0. 0.]\n"
          ]
        }
      ]
    },
    {
      "cell_type": "code",
      "source": [
        "def load_glove_embeddings_and_get_statistics(file_path):\n",
        "    vocab_size = 0\n",
        "    embedding_dim = None\n",
        "    with open(file_path, 'r', encoding='utf-8') as f:\n",
        "        for line in f:\n",
        "            vocab_size += 1\n",
        "            if embedding_dim is None:\n",
        "                parts = line.strip().split()\n",
        "                embedding_dim = len(parts) - 1  # Subtract 1 for the word itself\n",
        "    return vocab_size, embedding_dim\n",
        "\n",
        "# Path to the GloVe file\n",
        "glove_file_path = '/content/glove.6B.50d.txt'  # Update this path to your file's location\n",
        "\n",
        "# Load the GloVe embeddings and get statistics\n",
        "vocab_size, embedding_dim = load_glove_embeddings_and_get_statistics(glove_file_path)\n",
        "\n",
        "print(f\"Vocabulary size: {vocab_size}\")\n",
        "print(f\"Embedding dimension: {embedding_dim}\")\n",
        "\n"
      ],
      "metadata": {
        "colab": {
          "base_uri": "https://localhost:8080/"
        },
        "id": "6Q-WW218fUih",
        "outputId": "b4bd1578-dbbd-4dcc-83e3-21a4ad3b4fc7"
      },
      "execution_count": 17,
      "outputs": [
        {
          "output_type": "stream",
          "name": "stdout",
          "text": [
            "Vocabulary size: 400000\n",
            "Embedding dimension: 50\n"
          ]
        }
      ]
    },
    {
      "cell_type": "code",
      "source": [
        "def read_glove_vecs(glove_file):\n",
        "    with open(glove_file, 'r', encoding='utf-8') as file:\n",
        "        words = set()\n",
        "        word_to_vec_map = {}\n",
        "        word_to_index = {}\n",
        "        index_to_word = {}\n",
        "\n",
        "        for index, line in enumerate(file):\n",
        "            line = line.strip().split()\n",
        "            curr_word = line[0]\n",
        "            words.add(curr_word)\n",
        "            word_to_vec_map[curr_word] = np.array(line[1:], dtype=np.float64)\n",
        "            word_to_index[curr_word] = index\n",
        "            index_to_word[index] = curr_word\n",
        "\n",
        "    return word_to_index, index_to_word, word_to_vec_map\n",
        "\n",
        "# Example usage\n",
        "# glove_file = 'data/glove.6B.50d.txt'  # Update the path according to your file location\n",
        "# word_to_index, index_to_word, word_to_vec_map = read_glove_vecs(glove_file)\n"
      ],
      "metadata": {
        "id": "oDYfSi4UkISv"
      },
      "execution_count": 18,
      "outputs": []
    },
    {
      "cell_type": "code",
      "source": [
        "word_to_index, index_to_word, word_to_vec_map = read_glove_vecs('/content/glove.6B.50d.txt')"
      ],
      "metadata": {
        "id": "iagNeJHMlAaU"
      },
      "execution_count": 19,
      "outputs": []
    },
    {
      "cell_type": "code",
      "source": [
        "word = \"cucumber\"\n",
        "idx =  289846\n",
        "print(\"the index of\", word, \"in the vocabulary is\", word_to_index[word])\n",
        "print(\"the\", str(idx) + \"th word in the vocabulary is\", index_to_word[idx])"
      ],
      "metadata": {
        "colab": {
          "base_uri": "https://localhost:8080/"
        },
        "id": "kj7A4QO5lRXO",
        "outputId": "d997bf4e-5b7f-4099-8483-a7e5cf64fafa"
      },
      "execution_count": 20,
      "outputs": [
        {
          "output_type": "stream",
          "name": "stdout",
          "text": [
            "the index of cucumber in the vocabulary is 29794\n",
            "the 289846th word in the vocabulary is valeriana\n"
          ]
        }
      ]
    },
    {
      "cell_type": "code",
      "source": [
        "print(word_to_vec_map['love'])"
      ],
      "metadata": {
        "id": "NP7-r3Enlbsx",
        "colab": {
          "base_uri": "https://localhost:8080/"
        },
        "outputId": "63ac93c2-35ff-414c-a5d7-570b9c9fed29"
      },
      "execution_count": 21,
      "outputs": [
        {
          "output_type": "stream",
          "name": "stdout",
          "text": [
            "[-0.13886    1.1401    -0.85212   -0.29212    0.75534    0.82762\n",
            " -0.3181     0.0072204 -0.34762    1.0731    -0.24665    0.97765\n",
            " -0.55835   -0.090318   0.83182   -0.33317    0.22648    0.30913\n",
            "  0.026929  -0.086739  -0.14703    1.3543     0.53695    0.43735\n",
            "  1.2749    -1.4382    -1.2815    -0.15196    1.0506    -0.93644\n",
            "  2.7561     0.58967   -0.29473    0.27574   -0.32928   -0.201\n",
            " -0.28547   -0.45987   -0.14603   -0.69372    0.070761  -0.19326\n",
            " -0.1855    -0.16095    0.24268    0.20784    0.030924  -1.3711\n",
            " -0.28606    0.2898   ]\n"
          ]
        }
      ]
    },
    {
      "cell_type": "code",
      "source": [
        "print(word_to_vec_map['love'].shape)"
      ],
      "metadata": {
        "colab": {
          "base_uri": "https://localhost:8080/"
        },
        "id": "iFGpen9RRIDt",
        "outputId": "8bf8db80-7404-4753-a689-b3f0b950feec"
      },
      "execution_count": 22,
      "outputs": [
        {
          "output_type": "stream",
          "name": "stdout",
          "text": [
            "(50,)\n"
          ]
        }
      ]
    },
    {
      "cell_type": "code",
      "source": [
        "print(word_to_vec_map['the'])"
      ],
      "metadata": {
        "colab": {
          "base_uri": "https://localhost:8080/"
        },
        "id": "e17ydq6VRROw",
        "outputId": "705f2b34-8e05-4c98-a89d-785cd4902c96"
      },
      "execution_count": 23,
      "outputs": [
        {
          "output_type": "stream",
          "name": "stdout",
          "text": [
            "[ 4.1800e-01  2.4968e-01 -4.1242e-01  1.2170e-01  3.4527e-01 -4.4457e-02\n",
            " -4.9688e-01 -1.7862e-01 -6.6023e-04 -6.5660e-01  2.7843e-01 -1.4767e-01\n",
            " -5.5677e-01  1.4658e-01 -9.5095e-03  1.1658e-02  1.0204e-01 -1.2792e-01\n",
            " -8.4430e-01 -1.2181e-01 -1.6801e-02 -3.3279e-01 -1.5520e-01 -2.3131e-01\n",
            " -1.9181e-01 -1.8823e+00 -7.6746e-01  9.9051e-02 -4.2125e-01 -1.9526e-01\n",
            "  4.0071e+00 -1.8594e-01 -5.2287e-01 -3.1681e-01  5.9213e-04  7.4449e-03\n",
            "  1.7778e-01 -1.5897e-01  1.2041e-02 -5.4223e-02 -2.9871e-01 -1.5749e-01\n",
            " -3.4758e-01 -4.5637e-02 -4.4251e-01  1.8785e-01  2.7849e-03 -1.8411e-01\n",
            " -1.1514e-01 -7.8581e-01]\n"
          ]
        }
      ]
    },
    {
      "cell_type": "code",
      "source": [],
      "metadata": {
        "id": "RUchedUxRf4o"
      },
      "execution_count": 69,
      "outputs": []
    },
    {
      "cell_type": "code",
      "source": [],
      "metadata": {
        "id": "2xQ-g77KRrFE"
      },
      "execution_count": 69,
      "outputs": []
    },
    {
      "cell_type": "code",
      "source": [
        "any_word = list(word_to_vec_map.keys())[0]\n"
      ],
      "metadata": {
        "id": "sceJkt-gRtiq"
      },
      "execution_count": 24,
      "outputs": []
    },
    {
      "cell_type": "code",
      "source": [
        "print(word_to_vec_map[any_word].shape)"
      ],
      "metadata": {
        "colab": {
          "base_uri": "https://localhost:8080/"
        },
        "id": "sLC8TI33ULjT",
        "outputId": "d8809d52-307a-4e98-96bb-2724239523ae"
      },
      "execution_count": 25,
      "outputs": [
        {
          "output_type": "stream",
          "name": "stdout",
          "text": [
            "(50,)\n"
          ]
        }
      ]
    },
    {
      "cell_type": "code",
      "source": [
        "def sentence_to_avg(sentence,word_to_vec_map):\n",
        "  any_word=list(word_to_vec_map.keys())[0]\n",
        "  words=sentence.lower().split()\n",
        "  avg=np.zeros(word_to_vec_map[any_word].shape)\n",
        "  count=0\n",
        "  for w in words:\n",
        "    if w in word_to_vec_map:\n",
        "      avg+=word_to_vec_map[w]\n",
        "      count=count+1\n",
        "  if count>0:\n",
        "    avg=avg/count\n",
        "  return avg\n",
        "\n"
      ],
      "metadata": {
        "id": "UVoH9WNzUOh3"
      },
      "execution_count": 26,
      "outputs": []
    },
    {
      "cell_type": "code",
      "source": [
        "### YOU CANNOT EDIT THIS CELL\n",
        "\n",
        "# BEGIN UNIT TEST\n",
        "avg = sentence_to_avg(\"Morrocan couscous is my favorite dish\", word_to_vec_map)\n",
        "print(\"avg = \\n\", avg)\n",
        "\n",
        "def sentence_to_avg_test(target):\n",
        "    # Create a controlled word to vec map\n",
        "    word_to_vec_map = {'a': [3, 3], 'synonym_of_a': [3, 3], 'a_nw': [2, 4], 'a_s': [3, 2],\n",
        "                       'c': [-2, 1], 'c_n': [-2, 2],'c_ne': [-1, 2], 'c_e': [-1, 1], 'c_se': [-1, 0],\n",
        "                       'c_s': [-2, 0], 'c_sw': [-3, 0], 'c_w': [-3, 1], 'c_nw': [-3, 2]\n",
        "                      }\n",
        "    # Convert lists to np.arrays\n",
        "    for key in word_to_vec_map.keys():\n",
        "        word_to_vec_map[key] = np.array(word_to_vec_map[key])\n",
        "\n",
        "    avg = target(\"a a_nw c_w a_s\", word_to_vec_map)\n",
        "    assert tuple(avg.shape) == tuple(word_to_vec_map['a'].shape),  \"Check the shape of your avg array\"\n",
        "    assert np.allclose(avg, [1.25, 2.5]),  \"Check that you are finding the 4 words\"\n",
        "    avg = target(\"love a a_nw c_w a_s\", word_to_vec_map)\n",
        "    assert np.allclose(avg, [1.25, 2.5]), \"Divide by count, not len(words)\"\n",
        "    avg = target(\"love\", word_to_vec_map)\n",
        "    assert np.array_equal(avg, [0, 0]), \"Average of no words must give an array of zeros\"\n",
        "    avg = target(\"c_se foo a a_nw c_w a_s deeplearning c_nw\", word_to_vec_map)\n",
        "    assert np.allclose(avg, [0.1666667, 2.0]), \"Debug the last example\"\n",
        "\n",
        "    print(\"\\033[92mAll tests passed!\")\n",
        "\n",
        "sentence_to_avg_test(sentence_to_avg)\n",
        "\n",
        "# END UNIT TEST"
      ],
      "metadata": {
        "id": "xkQZtQTUUUDk",
        "colab": {
          "base_uri": "https://localhost:8080/"
        },
        "outputId": "e10e89cd-93b4-46a3-cca7-ef89840f1f75"
      },
      "execution_count": 27,
      "outputs": [
        {
          "output_type": "stream",
          "name": "stdout",
          "text": [
            "avg = \n",
            " [-0.008005    0.56370833 -0.50427333  0.258865    0.55131103  0.03104983\n",
            " -0.21013718  0.16893933 -0.09590267  0.141784   -0.15708967  0.18525867\n",
            "  0.6495785   0.38371117  0.21102167  0.11301667  0.02613967  0.26037767\n",
            "  0.05820667 -0.01578167 -0.12078833 -0.02471267  0.4128455   0.5152061\n",
            "  0.38756167 -0.898661   -0.535145    0.33501167  0.68806933 -0.2156265\n",
            "  1.797155    0.10476933 -0.36775333  0.750785    0.10282583  0.348925\n",
            " -0.27262833  0.66768    -0.10706167 -0.283635    0.59580117  0.28747333\n",
            " -0.3366635   0.23393817  0.34349183  0.178405    0.1166155  -0.076433\n",
            "  0.1445417   0.09808667]\n",
            "\u001b[92mAll tests passed!\n"
          ]
        }
      ]
    },
    {
      "cell_type": "code",
      "source": [
        "def predict(X, Y, W, b, word_to_vec_map):\n",
        "    \"\"\"\n",
        "    Given X (sentences), W (weights), b (bias), and word_to_vec_map, predict the labels.\n",
        "\n",
        "    Arguments:\n",
        "    X -- input data, array of sentences\n",
        "    Y -- true labels, not used in prediction but included to match the function call\n",
        "    W -- weight matrix of the softmax layer\n",
        "    b -- bias of the softmax layer\n",
        "    word_to_vec_map -- dictionary mapping words to their GloVe vector representation\n",
        "\n",
        "    Returns:\n",
        "    preds -- vector of predictions, an array of integers\n",
        "    \"\"\"\n",
        "    m = X.shape[0]  # number of examples\n",
        "    preds = np.zeros((m, 1))  # Initialize predictions\n",
        "\n",
        "    for i in range(m):\n",
        "        # Split sentences into words\n",
        "        words = X[i].lower().split()\n",
        "\n",
        "        # Initialize the average word vector\n",
        "        avg = np.zeros((word_to_vec_map[list(word_to_vec_map.keys())[0]].shape[0],))\n",
        "\n",
        "        # Sum the GloVe vectors\n",
        "        count = 0\n",
        "        for w in words:\n",
        "            if w in word_to_vec_map:\n",
        "                avg += word_to_vec_map[w]\n",
        "                count += 1\n",
        "        if count > 0:  # To avoid division by zero\n",
        "            avg = avg / count\n",
        "\n",
        "        # Forward propagation\n",
        "        z = np.dot(W, avg) + b\n",
        "        a = softmax(z)\n",
        "\n",
        "        # Convert probabilities to predicted class\n",
        "        preds[i] = np.argmax(a)\n",
        "\n",
        "    return preds\n"
      ],
      "metadata": {
        "id": "CEC8kAIoalFl"
      },
      "execution_count": 28,
      "outputs": []
    },
    {
      "cell_type": "code",
      "source": [
        "import numpy as np\n",
        "\n",
        "def softmax(x):\n",
        "    \"\"\"Compute softmax values for each set of scores in x.\"\"\"\n",
        "    # Compute e^x for each element in x\n",
        "    e_x = np.exp(x - np.max(x))  # Subtract max for numerical stability\n",
        "    # Divide each e^x by the sum of all e^x to get the probabilities\n",
        "    return e_x / e_x.sum(axis=0)\n",
        "\n",
        "# Example usage:\n",
        "scores = [3.0, 1.0, 0.2]\n",
        "print(softmax(scores))\n",
        "print(softmax(scores).shape)\n",
        "print(len(scores))\n",
        "\n",
        "print(sum(softmax(scores)))\n"
      ],
      "metadata": {
        "colab": {
          "base_uri": "https://localhost:8080/"
        },
        "id": "LYCtb-Z9bs1c",
        "outputId": "cdd46567-37d3-407f-f6b7-39d1128ab9f0"
      },
      "execution_count": 29,
      "outputs": [
        {
          "output_type": "stream",
          "name": "stdout",
          "text": [
            "[0.8360188  0.11314284 0.05083836]\n",
            "(3,)\n",
            "3\n",
            "0.9999999999999999\n"
          ]
        }
      ]
    },
    {
      "cell_type": "code",
      "source": [
        "# UNQ_C2 (UNIQUE CELL IDENTIFIER, DO NOT EDIT)\n",
        "# GRADED FUNCTION: model\n",
        "\n",
        "def model(X, Y, word_to_vec_map, learning_rate = 0.01, num_iterations = 400):\n",
        "    \"\"\"\n",
        "    Model to train word vector representations in numpy.\n",
        "\n",
        "    Arguments:\n",
        "    X -- input data, numpy array of sentences as strings, of shape (m,)\n",
        "    Y -- labels, numpy array of integers between 0 and 7, numpy-array of shape (m, 1)\n",
        "    word_to_vec_map -- dictionary mapping every word in a vocabulary into its 50-dimensional vector representation\n",
        "    learning_rate -- learning_rate for the stochastic gradient descent algorithm\n",
        "    num_iterations -- number of iterations\n",
        "\n",
        "    Returns:\n",
        "    pred -- vector of predictions, numpy-array of shape (m, 1)\n",
        "    W -- weight matrix of the softmax layer, of shape (n_y, n_h)\n",
        "    b -- bias of the softmax layer, of shape (n_y,)\n",
        "    \"\"\"\n",
        "\n",
        "    # Get a valid word contained in the word_to_vec_map\n",
        "    any_word = list(word_to_vec_map.keys())[0]\n",
        "\n",
        "    # Define number of training examples\n",
        "    m = Y.shape[0]                             # number of training examples\n",
        "    n_y = len(np.unique(Y))                    # number of classes\n",
        "    n_h = word_to_vec_map[any_word].shape[0]   # dimensions of the GloVe vectors\n",
        "\n",
        "    # Initialize parameters using Xavier initialization\n",
        "    W = np.random.randn(n_y, n_h) / np.sqrt(n_h)\n",
        "    b = np.zeros((n_y,))\n",
        "\n",
        "    # Convert Y to Y_onehot with n_y classes\n",
        "    Y_oh = convert_to_one_hot(Y, C = n_y)\n",
        "\n",
        "    # Optimization loop\n",
        "    for t in range(num_iterations): # Loop over the number of iterations\n",
        "\n",
        "        cost = 0\n",
        "        dW = 0\n",
        "        db = 0\n",
        "\n",
        "        for i in range(m):          # Loop over the training examples\n",
        "\n",
        "            ### START CODE HERE ### (≈ 4 lines of code)\n",
        "            # Average the word vectors of the words from the i'th training example\n",
        "            ### START CODE HERE ### (≈ 4 lines of code)\n",
        "            # Average the word vectors of the words from the i'th training example\n",
        "            words = X[i].lower().split()\n",
        "            avg = np.zeros((n_h,))\n",
        "            count = 0\n",
        "            for w in words:\n",
        "                if w in word_to_vec_map:\n",
        "                    avg += word_to_vec_map[w]\n",
        "                    count += 1\n",
        "            if count > 0:\n",
        "                avg = avg / count\n",
        "\n",
        "            # Forward propagate the avg through the softmax layer.\n",
        "            # You can use np.dot() to perform the multiplication.\n",
        "            z = np.dot(W, avg) + b\n",
        "            a = softmax(z)\n",
        "\n",
        "            # Add the cost using the i'th training label's one hot representation and \"A\" (the output of the softmax)\n",
        "            cost += -np.sum(Y_oh[i] * np.log(a))\n",
        "            ### END CODE HERE ###\n",
        "\n",
        "            # Compute gradients\n",
        "            dz = a - Y_oh[i]\n",
        "            dW += np.outer(dz, avg)\n",
        "            db += dz\n",
        "\n",
        "            # Update parameters with Stochastic Gradient Descent\n",
        "            W = W - learning_rate * dW\n",
        "            b = b - learning_rate * db\n",
        "\n",
        "        assert type(cost) == np.float64, \"Incorrect implementation of cost\"\n",
        "        assert cost.shape == (), \"Incorrect implementation of cost\"\n",
        "\n",
        "        if t % 100 == 0:\n",
        "            print(\"Epoch: \" + str(t) + \" --- cost = \" + str(cost))\n",
        "            pred = predict(X, Y, W, b, word_to_vec_map) #predict is defined in emo_utils.py\n",
        "    return pred, W, b"
      ],
      "metadata": {
        "id": "g3sr63GBd0U2"
      },
      "execution_count": 30,
      "outputs": []
    },
    {
      "cell_type": "code",
      "source": [
        "# UNIT TEST\n",
        "def model_test(target):\n",
        "    # Create a controlled word to vec map\n",
        "    word_to_vec_map = {'a': [3, 3], 'synonym_of_a': [3, 3], 'a_nw': [2, 4], 'a_s': [3, 2], 'a_n': [3, 4],\n",
        "                       'c': [-2, 1], 'c_n': [-2, 2],'c_ne': [-1, 2], 'c_e': [-1, 1], 'c_se': [-1, 0],\n",
        "                       'c_s': [-2, 0], 'c_sw': [-3, 0], 'c_w': [-3, 1], 'c_nw': [-3, 2]\n",
        "                      }\n",
        "    # Convert lists to np.arrays\n",
        "    for key in word_to_vec_map.keys():\n",
        "        word_to_vec_map[key] = np.array(word_to_vec_map[key])\n",
        "\n",
        "    # Training set. Sentences composed of a_* words will be of class 0 and sentences composed of c_* words will be of class 1\n",
        "    X = np.asarray(['a a_s synonym_of_a a_n c_sw', 'a a_s a_n c_sw', 'a_s  a a_n', 'synonym_of_a a a_s a_n c_sw', \" a_s a_n\",\n",
        "                    \" a a_s a_n c \", \" a_n  a c c c_e\",\n",
        "                   'c c_nw c_n c c_ne', 'c_e c c_se c_s', 'c_nw c a_s c_e c_e', 'c_e a_nw c_sw', 'c_sw c c_ne c_ne'])\n",
        "\n",
        "    Y = np.asarray([0, 0, 0, 0, 0, 0, 1, 1, 1, 1, 1, 1])\n",
        "\n",
        "    np.random.seed(10)\n",
        "    pred, W, b = model(X, Y, word_to_vec_map, 0.0025, 110)\n",
        "\n",
        "    assert W.shape == (2, 2), \"W must be of shape 2 x 2\"\n",
        "    assert np.allclose(pred.transpose(), Y), \"Model must give a perfect accuracy\"\n",
        "    assert np.allclose(b[0], -1 * b[1]), \"b should be symmetric in this example\"\n",
        "\n",
        "    print(\"\\033[92mAll tests passed!\")\n",
        "\n",
        "model_test(model)"
      ],
      "metadata": {
        "colab": {
          "base_uri": "https://localhost:8080/"
        },
        "id": "R2Uj26lAfLFI",
        "outputId": "97ac718a-c42a-4357-aadf-d4e51f4ed026"
      },
      "execution_count": 31,
      "outputs": [
        {
          "output_type": "stream",
          "name": "stdout",
          "text": [
            "Epoch: 0 --- cost = 2.603378473480253\n",
            "Epoch: 100 --- cost = 0.4732825238878884\n",
            "\u001b[92mAll tests passed!\n"
          ]
        }
      ]
    },
    {
      "cell_type": "code",
      "source": [
        "np.random.seed(1)\n",
        "pred, W, b = model(X_train, Y_train, word_to_vec_map)\n",
        "print(pred)"
      ],
      "metadata": {
        "colab": {
          "base_uri": "https://localhost:8080/"
        },
        "id": "6AckyFrufRyq",
        "outputId": "634b91fa-7830-4f66-e75a-d0d662c92d12"
      },
      "execution_count": 32,
      "outputs": [
        {
          "output_type": "stream",
          "name": "stdout",
          "text": [
            "Epoch: 0 --- cost = 495.4001890322268\n",
            "Epoch: 100 --- cost = 83.45073221020563\n",
            "Epoch: 200 --- cost = 3.6468876336060796\n",
            "Epoch: 300 --- cost = 0.5584884808807373\n",
            "[[4.]\n",
            " [3.]\n",
            " [3.]\n",
            " [1.]\n",
            " [2.]\n",
            " [1.]\n",
            " [4.]\n",
            " [3.]\n",
            " [4.]\n",
            " [1.]\n",
            " [3.]\n",
            " [3.]\n",
            " [2.]\n",
            " [2.]\n",
            " [4.]\n",
            " [3.]\n",
            " [2.]\n",
            " [3.]\n",
            " [3.]\n",
            " [1.]\n",
            " [3.]\n",
            " [2.]\n",
            " [2.]\n",
            " [2.]\n",
            " [0.]\n",
            " [1.]\n",
            " [0.]\n",
            " [4.]\n",
            " [2.]\n",
            " [0.]\n",
            " [2.]\n",
            " [0.]\n",
            " [0.]\n",
            " [3.]\n",
            " [4.]\n",
            " [0.]\n",
            " [2.]\n",
            " [1.]\n",
            " [3.]\n",
            " [1.]\n",
            " [0.]\n",
            " [4.]\n",
            " [0.]\n",
            " [3.]\n",
            " [0.]\n",
            " [4.]\n",
            " [2.]\n",
            " [3.]\n",
            " [4.]\n",
            " [2.]\n",
            " [2.]\n",
            " [3.]\n",
            " [0.]\n",
            " [2.]\n",
            " [2.]\n",
            " [3.]\n",
            " [2.]\n",
            " [3.]\n",
            " [2.]\n",
            " [2.]\n",
            " [3.]\n",
            " [3.]\n",
            " [0.]\n",
            " [2.]\n",
            " [3.]\n",
            " [0.]\n",
            " [2.]\n",
            " [0.]\n",
            " [0.]\n",
            " [2.]\n",
            " [3.]\n",
            " [2.]\n",
            " [4.]\n",
            " [1.]\n",
            " [3.]\n",
            " [3.]\n",
            " [0.]\n",
            " [0.]\n",
            " [3.]\n",
            " [2.]\n",
            " [0.]\n",
            " [3.]\n",
            " [0.]\n",
            " [2.]\n",
            " [2.]\n",
            " [4.]\n",
            " [2.]\n",
            " [2.]\n",
            " [0.]\n",
            " [0.]\n",
            " [2.]\n",
            " [3.]\n",
            " [0.]\n",
            " [4.]\n",
            " [2.]\n",
            " [1.]\n",
            " [2.]\n",
            " [3.]\n",
            " [3.]\n",
            " [2.]\n",
            " [3.]\n",
            " [0.]\n",
            " [3.]\n",
            " [0.]\n",
            " [2.]\n",
            " [0.]\n",
            " [2.]\n",
            " [3.]\n",
            " [4.]\n",
            " [3.]\n",
            " [1.]\n",
            " [3.]\n",
            " [4.]\n",
            " [3.]\n",
            " [2.]\n",
            " [3.]\n",
            " [3.]\n",
            " [3.]\n",
            " [1.]\n",
            " [4.]\n",
            " [4.]\n",
            " [2.]\n",
            " [2.]\n",
            " [1.]\n",
            " [1.]\n",
            " [2.]\n",
            " [3.]\n",
            " [2.]]\n"
          ]
        }
      ]
    },
    {
      "cell_type": "code",
      "source": [
        "print(\"Training set:\")\n",
        "pred_train = predict(X_train, Y_train, W, b, word_to_vec_map)\n",
        "print('Test set:')\n",
        "pred_test = predict(X_test, Y_test, W, b, word_to_vec_map)"
      ],
      "metadata": {
        "colab": {
          "base_uri": "https://localhost:8080/"
        },
        "id": "k8de9xdKiK8Q",
        "outputId": "75011938-178a-4536-fb71-ef26905bcb7d"
      },
      "execution_count": 33,
      "outputs": [
        {
          "output_type": "stream",
          "name": "stdout",
          "text": [
            "Training set:\n",
            "Test set:\n"
          ]
        }
      ]
    },
    {
      "cell_type": "code",
      "source": [
        "def print_predictions(X, preds):\n",
        "    \"\"\"\n",
        "    Prints the sentences and their associated predictions.\n",
        "\n",
        "    Arguments:\n",
        "    X -- input data (sentences), numpy array of shape (m,)\n",
        "    preds -- predictions, numpy array of shape (m, 1)\n",
        "    \"\"\"\n",
        "    for i in range(X.shape[0]):\n",
        "        print(f\"{X[i]} -> {label_to_emoji(int(preds[i]))}\")\n",
        "\n",
        "# Assuming label_to_emoji is already defined and uses the emoji_map\n",
        "def label_to_emoji(label):\n",
        "    emoji_map = {\n",
        "        0: \"❤️\",  # heart\n",
        "        1: \"⚾\",  # baseball\n",
        "        2: \"😄\",  # smile\n",
        "        3: \"😞\",  # disappointed\n",
        "        4: \"🍴\"   # fork and knife\n",
        "    }\n",
        "    return emoji_map.get(label, \"Label not found\")  # Return emoji or a default message\n",
        "\n",
        "\n"
      ],
      "metadata": {
        "id": "iv566vu4iWpL"
      },
      "execution_count": 34,
      "outputs": []
    },
    {
      "cell_type": "code",
      "source": [
        "X_my_sentences = np.array([\"i treasure you\", \"i love you\", \"funny lol\", \"lets play with a ball\",\n",
        "                           \"food is ready\", \"today is not good\"])\n",
        "print(f\"shape of x_my_sentences=\",{X_my_sentences.shape})\n",
        "Y_my_labels = np.array([[0], [0], [2], [1], [4],[3]])\n",
        "\n",
        "pred = predict(X_my_sentences, Y_my_labels , W, b, word_to_vec_map)\n",
        "print_predictions(X_my_sentences, pred)"
      ],
      "metadata": {
        "colab": {
          "base_uri": "https://localhost:8080/"
        },
        "id": "gXvA0h9zig_U",
        "outputId": "fd3a19a8-ddf8-4144-bb4e-f7d667e57413"
      },
      "execution_count": 35,
      "outputs": [
        {
          "output_type": "stream",
          "name": "stdout",
          "text": [
            "shape of x_my_sentences= {(6,)}\n",
            "i treasure you -> ❤️\n",
            "i love you -> ❤️\n",
            "funny lol -> 😄\n",
            "lets play with a ball -> ⚾\n",
            "food is ready -> 🍴\n",
            "today is not good -> 😄\n"
          ]
        },
        {
          "output_type": "stream",
          "name": "stderr",
          "text": [
            "<ipython-input-34-b4cb12506b56>:10: DeprecationWarning: Conversion of an array with ndim > 0 to a scalar is deprecated, and will error in future. Ensure you extract a single element from your array before performing this operation. (Deprecated NumPy 1.25.)\n",
            "  print(f\"{X[i]} -> {label_to_emoji(int(preds[i]))}\")\n"
          ]
        }
      ]
    },
    {
      "cell_type": "code",
      "source": [
        "import numpy as np\n",
        "import matplotlib.pyplot as plt\n",
        "from sklearn.metrics import confusion_matrix\n",
        "import seaborn as sns  # For a nicer looking confusion matrix\n",
        "\n",
        "def plot_confusion_matrix(Y_true, Y_pred):\n",
        "    \"\"\"\n",
        "    Plots the confusion matrix using matplotlib and seaborn.\n",
        "\n",
        "    Arguments:\n",
        "    Y_true -- true labels, numpy array of shape (m, 1)\n",
        "    Y_pred -- predictions, numpy array of shape (m, 1)\n",
        "    \"\"\"\n",
        "    # Compute confusion matrix\n",
        "    cm = confusion_matrix(Y_true, Y_pred)\n",
        "\n",
        "    # Use seaborn to create a more visually appealing confusion matrix\n",
        "    sns.set(font_scale=1.4)  # for label size\n",
        "    plt.figure(figsize=(8, 6))\n",
        "    sns.heatmap(cm, annot=True, fmt=\"d\", cmap=\"YlGnBu\")  # annot=True to annotate cells, fmt=\"d\" to disable scientific notation\n",
        "\n",
        "    # Labels, title and ticks\n",
        "    plt.xlabel('Predicted labels')\n",
        "    plt.ylabel('True labels')\n",
        "    plt.title('Confusion Matrix')\n",
        "    plt.show()\n",
        "\n",
        "# Example usage:\n",
        "# Ensure Y_test and pred_test are numpy arrays and have the shape (m, 1) or (m,)\n",
        "# You might need to use np.squeeze() if your predictions are in a different shape\n",
        "# plot_confusion_matrix(Y_test, np.squeeze(pred_test))\n"
      ],
      "metadata": {
        "id": "FMGLAVWXjViE"
      },
      "execution_count": 36,
      "outputs": []
    },
    {
      "cell_type": "code",
      "source": [
        "print(Y_test.shape)\n",
        "print('           '+ label_to_emoji(0)+ '    ' + label_to_emoji(1) + '    ' +  label_to_emoji(2)+ '    ' +\n",
        "      label_to_emoji(3)+'   ' + label_to_emoji(4))\n",
        "print(pd.crosstab(Y_test, pred_test.reshape(56,), rownames=['Actual'], colnames=['Predicted'], margins=True))\n",
        "plot_confusion_matrix(Y_test, pred_test)"
      ],
      "metadata": {
        "colab": {
          "base_uri": "https://localhost:8080/",
          "height": 769
        },
        "id": "iIJr5LA4jgU7",
        "outputId": "49d8b92f-aa80-4c58-c9d0-dfcd59577518"
      },
      "execution_count": 37,
      "outputs": [
        {
          "output_type": "stream",
          "name": "stdout",
          "text": [
            "(56,)\n",
            "           ❤️    ⚾    😄    😞   🍴\n",
            "Predicted  0.0  1.0  2.0  3.0  4.0  All\n",
            "Actual                                 \n",
            "0            6    0    1    0    0    7\n",
            "1            0    8    0    0    0    8\n",
            "2            5    0   13    0    0   18\n",
            "3            1    0    3   12    0   16\n",
            "4            1    0    2    0    4    7\n",
            "All         13    8   19   12    4   56\n"
          ]
        },
        {
          "output_type": "display_data",
          "data": {
            "text/plain": [
              "<Figure size 800x600 with 2 Axes>"
            ],
            "image/png": "[encoded data removed]"
          },
          "metadata": {}
        }
      ]
    },
    {
      "cell_type": "code",
      "source": [
        " m = Y_train.shape[0]\n",
        " print(m)"
      ],
      "metadata": {
        "colab": {
          "base_uri": "https://localhost:8080/"
        },
        "id": "WkYLNpd-j7pT",
        "outputId": "583ac646-9b4d-4a61-d0ec-80d64d4afe13"
      },
      "execution_count": 38,
      "outputs": [
        {
          "output_type": "stream",
          "name": "stdout",
          "text": [
            "128\n"
          ]
        }
      ]
    },
    {
      "cell_type": "code",
      "source": [
        "n_y = len(np.unique(Y_train))\n",
        "print(n_y)"
      ],
      "metadata": {
        "colab": {
          "base_uri": "https://localhost:8080/"
        },
        "id": "pwX-LnZFDtN8",
        "outputId": "0bd8d315-becc-4cb6-b79e-ba7c44559826"
      },
      "execution_count": 39,
      "outputs": [
        {
          "output_type": "stream",
          "name": "stdout",
          "text": [
            "5\n"
          ]
        }
      ]
    },
    {
      "cell_type": "code",
      "source": [
        "n_h=word_to_vec_map[any_word].shape[0]\n",
        "print(n_h)"
      ],
      "metadata": {
        "colab": {
          "base_uri": "https://localhost:8080/"
        },
        "id": "LPLFhWmeD6j7",
        "outputId": "2ad093fe-abbe-4a7e-b904-5508102b1210"
      },
      "execution_count": 40,
      "outputs": [
        {
          "output_type": "stream",
          "name": "stdout",
          "text": [
            "50\n"
          ]
        }
      ]
    },
    {
      "cell_type": "code",
      "source": [
        "def accuracy(Y_true, Y_pred):\n",
        "    \"\"\"\n",
        "    Calculate the accuracy of predictions.\n",
        "\n",
        "    Arguments:\n",
        "    Y_true -- true labels, numpy array (or list) of shape (m, 1) or (m,)\n",
        "    Y_pred -- predictions, numpy array (or list) of shape (m, 1) or (m,)\n",
        "\n",
        "    Returns:\n",
        "    acc -- accuracy of predictions.\n",
        "    \"\"\"\n",
        "    Y_true = np.squeeze(Y_true)  # Remove single-dimensional entries from the shape\n",
        "    Y_pred = np.squeeze(Y_pred)\n",
        "    correct_predictions = np.sum(Y_true == Y_pred)\n",
        "    total_predictions = Y_true.shape[0]\n",
        "    acc = correct_predictions / total_predictions\n",
        "    return acc\n",
        "\n",
        "# Assuming X_train, Y_train, X_test, and Y_test are already defined\n",
        "print(\"Training set:\")\n",
        "pred_train = predict(X_train, Y_train, W, b, word_to_vec_map)\n",
        "train_accuracy = accuracy(Y_train, pred_train)\n",
        "print(f\"Accuracy on training set: {train_accuracy*100:.2f}%\")\n",
        "\n",
        "print('Test set:')\n",
        "pred_test = predict(X_test, Y_test, W, b, word_to_vec_map)\n",
        "test_accuracy = accuracy(Y_test, pred_test)\n",
        "print(f\"Accuracy on test set: {test_accuracy*100:.2f}%\")\n"
      ],
      "metadata": {
        "colab": {
          "base_uri": "https://localhost:8080/"
        },
        "id": "J9aknvhHEJWY",
        "outputId": "cebe73c3-9149-4d8c-d65c-d0e09fc0f862"
      },
      "execution_count": 41,
      "outputs": [
        {
          "output_type": "stream",
          "name": "stdout",
          "text": [
            "Training set:\n",
            "Accuracy on training set: 100.00%\n",
            "Test set:\n",
            "Accuracy on test set: 76.79%\n"
          ]
        }
      ]
    },
    {
      "cell_type": "code",
      "source": [
        "import numpy as np\n",
        "import tensorflow\n",
        "np.random.seed(0)\n",
        "from tensorflow.keras.models import Model\n",
        "from tensorflow.keras.layers import Dense,Dropout,Input,LSTM,Activation\n",
        "from tensorflow.keras.layers import Embedding\n",
        "from tensorflow.keras.preprocessing import sequence\n",
        "from tensorflow.keras.initializers import glorot_uniform\n",
        "np.random.seed(1)"
      ],
      "metadata": {
        "id": "TML2AyIad07i"
      },
      "execution_count": 42,
      "outputs": []
    },
    {
      "cell_type": "code",
      "source": [
        "for idx,val in enumerate([\"I\", \"like\", \"learning\"]):\n",
        "  print(idx,val)"
      ],
      "metadata": {
        "colab": {
          "base_uri": "https://localhost:8080/"
        },
        "id": "KALxafxtrJbd",
        "outputId": "ba56b672-fb7e-4def-cd3a-f5b33a05cce0"
      },
      "execution_count": 43,
      "outputs": [
        {
          "output_type": "stream",
          "name": "stdout",
          "text": [
            "0 I\n",
            "1 like\n",
            "2 learning\n"
          ]
        }
      ]
    },
    {
      "cell_type": "code",
      "source": [
        "def sentences_to_indices(x,word_to_index,maxLen):\n",
        "  m=x.shape[0]\n",
        "  x_indices=np.zeros((m,maxLen))\n",
        "  for i in range(m):\n",
        "    sentence_word=x[i].lower().split()\n",
        "    j=0\n",
        "    for w in sentence_word:\n",
        "      if w in word_to_index:\n",
        "        x_indices[i,j]=word_to_index[w]\n",
        "        j=j+1\n",
        "  return x_indices\n"
      ],
      "metadata": {
        "id": "w3UAjOzUuw-7"
      },
      "execution_count": 44,
      "outputs": []
    },
    {
      "cell_type": "code",
      "source": [
        "import numpy as np\n",
        "import re\n",
        "\n",
        "sentences = [\n",
        "    \"The quick brown fox jumps over the lazy dog.\",\n",
        "    \"A journey of a thousand miles begins with a single step.\",\n",
        "    \"To be or not to be, that is the question.\",\n",
        "    \"All that glitters is not gold.\",\n",
        "    \"I think, therefore I am.\"\n",
        "]\n",
        "\n",
        "# Clean sentences to remove punctuation and convert to lowercase\n",
        "sentence_clean = [re.sub(r'[^\\w\\s]', '', sentence).lower() for sentence in sentences]\n",
        "\n",
        "# Convert the list of cleaned sentences to a NumPy array\n",
        "x = np.array(sentence_clean)\n",
        "indices=sentences_to_indices(x,word_to_index,20)\n",
        "print(f\"indices\\n={indices}\")\n"
      ],
      "metadata": {
        "colab": {
          "base_uri": "https://localhost:8080/"
        },
        "id": "Asmv1IN927LR",
        "outputId": "4c4c55bf-9353-4ea4-ca54-3912eca9db69"
      },
      "execution_count": 45,
      "outputs": [
        {
          "output_type": "stream",
          "name": "stdout",
          "text": [
            "indices\n",
            "=[[0.0000e+00 2.5820e+03 1.0420e+03 2.1060e+03 1.1070e+04 7.4000e+01\n",
            "  0.0000e+00 1.6531e+04 2.9260e+03 0.0000e+00 0.0000e+00 0.0000e+00\n",
            "  0.0000e+00 0.0000e+00 0.0000e+00 0.0000e+00 0.0000e+00 0.0000e+00\n",
            "  0.0000e+00 0.0000e+00]\n",
            " [7.0000e+00 3.9300e+03 3.0000e+00 7.0000e+00 4.1190e+03 6.7900e+02\n",
            "  2.2760e+03 1.7000e+01 7.0000e+00 5.9200e+02 1.0650e+03 0.0000e+00\n",
            "  0.0000e+00 0.0000e+00 0.0000e+00 0.0000e+00 0.0000e+00 0.0000e+00\n",
            "  0.0000e+00 0.0000e+00]\n",
            " [4.0000e+00 3.0000e+01 4.6000e+01 3.6000e+01 4.0000e+00 3.0000e+01\n",
            "  1.2000e+01 1.4000e+01 0.0000e+00 9.9500e+02 0.0000e+00 0.0000e+00\n",
            "  0.0000e+00 0.0000e+00 0.0000e+00 0.0000e+00 0.0000e+00 0.0000e+00\n",
            "  0.0000e+00 0.0000e+00]\n",
            " [6.4000e+01 1.2000e+01 9.4594e+04 1.4000e+01 3.6000e+01 7.6400e+02\n",
            "  0.0000e+00 0.0000e+00 0.0000e+00 0.0000e+00 0.0000e+00 0.0000e+00\n",
            "  0.0000e+00 0.0000e+00 0.0000e+00 0.0000e+00 0.0000e+00 0.0000e+00\n",
            "  0.0000e+00 0.0000e+00]\n",
            " [4.1000e+01 2.6900e+02 2.3170e+03 4.1000e+01 9.1300e+02 0.0000e+00\n",
            "  0.0000e+00 0.0000e+00 0.0000e+00 0.0000e+00 0.0000e+00 0.0000e+00\n",
            "  0.0000e+00 0.0000e+00 0.0000e+00 0.0000e+00 0.0000e+00 0.0000e+00\n",
            "  0.0000e+00 0.0000e+00]]\n"
          ]
        }
      ]
    },
    {
      "cell_type": "code",
      "source": [
        "### YOU CANNOT EDIT THIS CELL\n",
        "\n",
        "# UNIT TEST\n",
        "def sentences_to_indices_test(target):\n",
        "\n",
        "    # Create a word_to_index dictionary\n",
        "    word_to_index = {}\n",
        "    for idx, val in enumerate([\"i\", \"like\", \"learning\", \"deep\", \"machine\", \"love\", \"smile\", '´0.=']):\n",
        "        word_to_index[val] = idx + 1;\n",
        "    print(word_to_index)\n",
        "    max_len = 4\n",
        "    sentences = np.array([\"I like deep learning\", \"deep ´0.= love machine\", \"machine learning smile\", \"$\"]);\n",
        "    indexes = target(sentences, word_to_index, max_len)\n",
        "    print(indexes)\n",
        "\n",
        "    assert type(indexes) == np.ndarray, \"Wrong type. Use np arrays in the function\"\n",
        "    assert indexes.shape == (sentences.shape[0], max_len), \"Wrong shape of ouput matrix\"\n",
        "    assert np.allclose(indexes, [[1, 2, 4, 3],\n",
        "                                 [4, 8, 6, 5],\n",
        "                                 [5, 3, 7, 0],\n",
        "                                 [0, 0, 0, 0]]), \"Wrong values. Debug with the given examples\"\n",
        "\n",
        "    print(\"\\033[92mAll tests passed!\")\n",
        "\n",
        "sentences_to_indices_test(sentences_to_indices)"
      ],
      "metadata": {
        "colab": {
          "base_uri": "https://localhost:8080/"
        },
        "id": "5vYv0jFU4iMT",
        "outputId": "aa27bb32-35f8-4205-9f6e-5b27961a0835"
      },
      "execution_count": 46,
      "outputs": [
        {
          "output_type": "stream",
          "name": "stdout",
          "text": [
            "{'i': 1, 'like': 2, 'learning': 3, 'deep': 4, 'machine': 5, 'love': 6, 'smile': 7, '´0.=': 8}\n",
            "[[1. 2. 4. 3.]\n",
            " [4. 8. 6. 5.]\n",
            " [5. 3. 7. 0.]\n",
            " [0. 0. 0. 0.]]\n",
            "\u001b[92mAll tests passed!\n"
          ]
        }
      ]
    },
    {
      "cell_type": "code",
      "source": [
        "X1 = np.array([\"funny lol\", \"lets play baseball\", \"food is ready for you\"])\n",
        "X1_indices = sentences_to_indices(X1, word_to_index, 5)\n",
        "print(\"X1 =\", X1)\n",
        "print(\"X1_indices =\\n\", X1_indices)\n"
      ],
      "metadata": {
        "colab": {
          "base_uri": "https://localhost:8080/"
        },
        "id": "AafxuRHw9oBw",
        "outputId": "a4d010de-3c01-4651-dc6b-29718ba2e744"
      },
      "execution_count": 47,
      "outputs": [
        {
          "output_type": "stream",
          "name": "stdout",
          "text": [
            "X1 = ['funny lol' 'lets play baseball' 'food is ready for you']\n",
            "X1_indices =\n",
            " [[5.4660e+03 7.3048e+04 0.0000e+00 0.0000e+00 0.0000e+00]\n",
            " [8.2350e+03 2.8200e+02 1.4440e+03 0.0000e+00 0.0000e+00]\n",
            " [5.6500e+02 1.4000e+01 1.1880e+03 1.0000e+01 8.1000e+01]]\n"
          ]
        }
      ]
    },
    {
      "cell_type": "code",
      "source": [
        "#example to understand the funtionality of the items() funtion\n",
        "student_scores = {1: 85, 2: 92, 3: 78, 4: 90}\n",
        "for student_id, score in student_scores.items():\n",
        "    print(f\"Student ID: {student_id}, Score: {score}\")\n"
      ],
      "metadata": {
        "colab": {
          "base_uri": "https://localhost:8080/"
        },
        "id": "2crpqSfbC4Wr",
        "outputId": "a6a7ae54-d513-4d13-a31a-8633158db9d3"
      },
      "execution_count": 48,
      "outputs": [
        {
          "output_type": "stream",
          "name": "stdout",
          "text": [
            "Student ID: 1, Score: 85\n",
            "Student ID: 2, Score: 92\n",
            "Student ID: 3, Score: 78\n",
            "Student ID: 4, Score: 90\n"
          ]
        }
      ]
    },
    {
      "cell_type": "code",
      "source": [
        "import numpy as np\n",
        "\n",
        "# Initialize the embedding matrix with zeros. Shape: vocab_size (6) x embedding_dim (3)\n",
        "embedding_matrix = np.zeros((6, 3))\n",
        "\n",
        "# Fill in the embedding matrix with our predefined vectors\n",
        "embedding_matrix[1] = [0.21, -0.96, 0.75]\n",
        "embedding_matrix[2] = [0.25, -0.92, 0.78]\n",
        "embedding_matrix[3] = [-0.65, 0.80, -0.23]\n",
        "embedding_matrix[4] = [-0.68, 0.75, -0.20]\n",
        "embedding_matrix[5] = [0.99, 0.01, 0.32]\n",
        "\n",
        "print(\"Embedding Matrix:\\n\", embedding_matrix)\n"
      ],
      "metadata": {
        "colab": {
          "base_uri": "https://localhost:8080/"
        },
        "id": "ijVYb-9yiD2l",
        "outputId": "d5ad53c0-d7d8-482d-ba48-190ea99b1acd"
      },
      "execution_count": 49,
      "outputs": [
        {
          "output_type": "stream",
          "name": "stdout",
          "text": [
            "Embedding Matrix:\n",
            " [[ 0.    0.    0.  ]\n",
            " [ 0.21 -0.96  0.75]\n",
            " [ 0.25 -0.92  0.78]\n",
            " [-0.65  0.8  -0.23]\n",
            " [-0.68  0.75 -0.2 ]\n",
            " [ 0.99  0.01  0.32]]\n"
          ]
        }
      ]
    },
    {
      "cell_type": "code",
      "source": [
        "def pretrained_embedding_layer(word_to_vec_map,word_to_index):\n",
        "  vocab_size=len(word_to_index)+1\n",
        "  any_word=list(word_to_vec_map.keys())[0]\n",
        "  emb_dim=word_to_vec_map[any_word].shape[0]\n",
        "  emb_matrix=np.zeros((vocab_size,emb_dim))\n",
        "  for word,idx in word_to_index.items():\n",
        "    emb_matrix[idx,:]=word_to_vec_map[word]\n",
        "  embedding_layer=Embedding(input_dim=vocab_size,output_dim=emb_dim,trainable=False)\n",
        "  embedding_layer.build((None,))\n",
        "  embedding_layer.set_weights([emb_matrix])\n",
        "  return embedding_layer"
      ],
      "metadata": {
        "id": "Fge_Vw12jFoY"
      },
      "execution_count": 48,
      "outputs": []
    },
    {
      "cell_type": "code",
      "source": [
        "### YOU CANNOT EDIT THIS CELL\n",
        "\n",
        "# UNIT TEST\n",
        "def pretrained_embedding_layer_test(target):\n",
        "    # Create a controlled word to vec map\n",
        "    word_to_vec_map = {'a': [3, 3], 'synonym_of_a': [3, 3], 'a_nw': [2, 4], 'a_s': [3, 2], 'a_n': [3, 4],\n",
        "                       'c': [-2, 1], 'c_n': [-2, 2],'c_ne': [-1, 2], 'c_e': [-1, 1], 'c_se': [-1, 0],\n",
        "                       'c_s': [-2, 0], 'c_sw': [-3, 0], 'c_w': [-3, 1], 'c_nw': [-3, 2]\n",
        "                      }\n",
        "    # Convert lists to np.arrays\n",
        "    for key in word_to_vec_map.keys():\n",
        "        word_to_vec_map[key] = np.array(word_to_vec_map[key])\n",
        "\n",
        "    # Create a word_to_index dictionary\n",
        "    word_to_index = {}\n",
        "    for idx, val in enumerate(list(word_to_vec_map.keys())):\n",
        "        word_to_index[val] = idx;\n",
        "\n",
        "    np.random.seed(1)\n",
        "    embedding_layer = target(word_to_vec_map, word_to_index)\n",
        "\n",
        "    assert type(embedding_layer) == Embedding, \"Wrong type\"\n",
        "    assert embedding_layer.input_dim == len(list(word_to_vec_map.keys())) + 1, \"Wrong input shape\"\n",
        "    assert embedding_layer.output_dim == len(word_to_vec_map['a']), \"Wrong output shape\"\n",
        "    assert np.allclose(embedding_layer.get_weights(),\n",
        "                       [[[ 3, 3], [ 3, 3], [ 2, 4], [ 3, 2], [ 3, 4],\n",
        "                       [-2, 1], [-2, 2], [-1, 2], [-1, 1], [-1, 0],\n",
        "                       [-2, 0], [-3, 0], [-3, 1], [-3, 2], [ 0, 0]]]), \"Wrong vaulues\"\n",
        "    print(\"\\033[92mAll tests passed!\")\n",
        "\n",
        "\n",
        "pretrained_embedding_layer_test(pretrained_embedding_layer)"
      ],
      "metadata": {
        "colab": {
          "base_uri": "https://localhost:8080/"
        },
        "id": "PfABhdHUGvsI",
        "outputId": "db7063c1-155e-4b34-80b6-fcd06c63da57"
      },
      "execution_count": 49,
      "outputs": [
        {
          "output_type": "stream",
          "name": "stdout",
          "text": [
            "\u001b[92mAll tests passed!\n"
          ]
        }
      ]
    },
    {
      "cell_type": "code",
      "source": [
        "embedding_layer = pretrained_embedding_layer(word_to_vec_map, word_to_index)\n",
        "print(\"weights[0][1][1] =\", embedding_layer.get_weights()[0][1][1])\n",
        "print(\"Input_dim\", embedding_layer.input_dim)\n",
        "print(\"Output_dim\",embedding_layer.output_dim)\n"
      ],
      "metadata": {
        "colab": {
          "base_uri": "https://localhost:8080/"
        },
        "id": "HoOgZTvkHI0Z",
        "outputId": "fa5bcd22-5c14-4815-d4c8-6e5d5a91603d"
      },
      "execution_count": 50,
      "outputs": [
        {
          "output_type": "stream",
          "name": "stdout",
          "text": [
            "weights[0][1][1] = 0.23682\n",
            "Input_dim 400001\n",
            "Output_dim 50\n"
          ]
        }
      ]
    },
    {
      "cell_type": "code",
      "source": [
        "\n",
        "word_to_vec_map = {'a': [3, 3], 'synonym_of_a': [3, 3], 'a_nw': [2, 4], 'a_s': [3, 2], 'a_n': [3, 4],\n",
        "                       'c': [-2, 1], 'c_n': [-2, 2],'c_ne': [-1, 2], 'c_e': [-1, 1], 'c_se': [-1, 0],\n",
        "                       'c_s': [-2, 0], 'c_sw': [-3, 0], 'c_w': [-3, 1], 'c_nw': [-3, 2]\n",
        "                      }\n",
        "for key in word_to_vec_map.keys():\n",
        "  word_to_vec_map[key]=np.array(word_to_vec_map[key])\n",
        "print(word_to_vec_map)"
      ],
      "metadata": {
        "colab": {
          "base_uri": "https://localhost:8080/"
        },
        "id": "Sf7o7KCjHc6l",
        "outputId": "a5732644-e22e-48b7-d1af-c30be466f0ed"
      },
      "execution_count": 53,
      "outputs": [
        {
          "output_type": "stream",
          "name": "stdout",
          "text": [
            "{'a': array([3, 3]), 'synonym_of_a': array([3, 3]), 'a_nw': array([2, 4]), 'a_s': array([3, 2]), 'a_n': array([3, 4]), 'c': array([-2,  1]), 'c_n': array([-2,  2]), 'c_ne': array([-1,  2]), 'c_e': array([-1,  1]), 'c_se': array([-1,  0]), 'c_s': array([-2,  0]), 'c_sw': array([-3,  0]), 'c_w': array([-3,  1]), 'c_nw': array([-3,  2])}\n"
          ]
        }
      ]
    },
    {
      "cell_type": "code",
      "source": [
        "any_word=list(word_to_vec_map.keys())[0]\n",
        "dim=word_to_vec_map[any_word].shape[0]\n",
        "print(f\"dim={dim}\")"
      ],
      "metadata": {
        "colab": {
          "base_uri": "https://localhost:8080/"
        },
        "id": "6XA29RLhKnjQ",
        "outputId": "0440abfd-09a1-4258-98aa-1677adf24c56"
      },
      "execution_count": 54,
      "outputs": [
        {
          "output_type": "stream",
          "name": "stdout",
          "text": [
            "dim=2\n"
          ]
        }
      ]
    },
    {
      "cell_type": "code",
      "source": [
        "word_to_index={}\n",
        "for idx,val in enumerate(list(word_to_vec_map.keys())):\n",
        "  word_to_index[val]=idx;\n",
        "print(word_to_index)"
      ],
      "metadata": {
        "colab": {
          "base_uri": "https://localhost:8080/"
        },
        "id": "nIWIVw6gLRlh",
        "outputId": "45857169-c4f3-49b4-c260-3ab7c77f850e"
      },
      "execution_count": 55,
      "outputs": [
        {
          "output_type": "stream",
          "name": "stdout",
          "text": [
            "{'a': 0, 'synonym_of_a': 1, 'a_nw': 2, 'a_s': 3, 'a_n': 4, 'c': 5, 'c_n': 6, 'c_ne': 7, 'c_e': 8, 'c_se': 9, 'c_s': 10, 'c_sw': 11, 'c_w': 12, 'c_nw': 13}\n"
          ]
        }
      ]
    },
    {
      "cell_type": "code",
      "source": [
        "maxLen = len(max(X_train, key=lambda x: len(x.split())).split())\n",
        "from tensorflow.keras.layers import Input, LSTM, Dropout, Dense, Activation\n",
        "from tensorflow.keras.models import Model\n",
        "def Emojify_V2(input_shape, word_to_vec_map, word_to_index):\n",
        "    \"\"\"\n",
        "    Function creating the Emojify-v2 model's graph.\n",
        "\n",
        "    Arguments:\n",
        "    input_shape -- shape of the input, usually (max_len,)\n",
        "    word_to_vec_map -- dictionary mapping every word in a vocabulary into its 50-dimensional vector representation\n",
        "    word_to_index -- dictionary mapping from words to their indices in the vocabulary (400,001 words)\n",
        "\n",
        "    Returns:\n",
        "    model -- a model instance in Keras\n",
        "    \"\"\"\n",
        "\n",
        "    ### START CODE HERE ###\n",
        "    # Define sentence_indices as the input of the graph.\n",
        "    # It should be of shape input_shape and dtype 'int32' (as it contains indices, which are integers).\n",
        "    sentence_indices = Input(input_shape, dtype='int32')\n",
        "\n",
        "    # Create the embedding layer pretrained with GloVe Vectors (≈1 line)\n",
        "    embedding_layer = pretrained_embedding_layer(word_to_vec_map, word_to_index)\n",
        "\n",
        "    # Propagate sentence_indices through your embedding layer\n",
        "    # (See additional hints in the instructions).\n",
        "    embeddings = embedding_layer(sentence_indices)\n",
        "\n",
        "    # Propagate the embeddings through an LSTM layer with 128-dimensional hidden state\n",
        "    # The returned output should be a batch of sequences.\n",
        "    X = LSTM(128, return_sequences=True)(embeddings)\n",
        "    # Add dropout with a probability of 0.5\n",
        "    X = Dropout(0.5)(X)\n",
        "    # Propagate X trough another LSTM layer with 128-dimensional hidden state\n",
        "    # The returned output should be a single hidden state, not a batch of sequences.\n",
        "    X = LSTM(128, return_sequences=False)(X)\n",
        "    # Add dropout with a probability of 0.5\n",
        "    X = Dropout(0.5)(X)\n",
        "    # Propagate X through a Dense layer with 5 units\n",
        "    X = Dense(5)(X)\n",
        "    # Add a softmax activation\n",
        "    X = Activation('softmax')(X)\n",
        "\n",
        "    # Create Model instance which converts sentence_indices into X.\n",
        "    model = Model(sentence_indices, X)\n",
        "\n",
        "    ### END CODE HERE ###\n",
        "    print(type(model))  # Add this line before the return statement in Emojify_V2\n",
        "\n",
        "\n",
        "    return model"
      ],
      "metadata": {
        "id": "HKvfPZa3NO8a"
      },
      "execution_count": 51,
      "outputs": []
    },
    {
      "cell_type": "code",
      "source": [
        "print(type(model))  # This should output <class 'tensorflow.python.keras.engine.functional.Functional'>\n"
      ],
      "metadata": {
        "colab": {
          "base_uri": "https://localhost:8080/"
        },
        "id": "8p13PUicFODv",
        "outputId": "3e4ee6f8-cefc-4408-b67f-e314b34fc885"
      },
      "execution_count": 52,
      "outputs": [
        {
          "output_type": "stream",
          "name": "stdout",
          "text": [
            "<class 'function'>\n"
          ]
        }
      ]
    },
    {
      "cell_type": "code",
      "source": [
        "from tensorflow.keras.layers import Input, LSTM, Dropout, Dense, Activation, Embedding\n",
        "from tensorflow.keras.models import Model\n",
        "import numpy as np\n",
        "\n",
        "def pretrained_embedding_layer(word_to_vec_map, word_to_index):\n",
        "    # Mock implementation for illustration; replace with your actual implementation.\n",
        "    vocab_len = len(word_to_index) + 1  # adding 1 to fit Keras embedding (Keras requires indexing from 1)\n",
        "    emb_dim = word_to_vec_map['c'].shape[0]  # example to get dimensionality of embeddings\n",
        "\n",
        "    emb_matrix = np.zeros((vocab_len, emb_dim))\n",
        "    for word, index in word_to_index.items():\n",
        "        emb_matrix[index, :] = word_to_vec_map[word]\n",
        "\n",
        "    embedding_layer = Embedding(vocab_len, emb_dim, trainable=False)\n",
        "    embedding_layer.build((None,))\n",
        "    embedding_layer.set_weights([emb_matrix])\n",
        "\n",
        "    return embedding_layer\n",
        "\n",
        "def Emojify_V2(input_shape, word_to_vec_map, word_to_index):\n",
        "    # Ensure the function creates and returns a Keras Model instance.\n",
        "    sentence_indices = Input(shape=input_shape, dtype='int32')\n",
        "\n",
        "    # Create the embedding layer\n",
        "    embedding_layer = pretrained_embedding_layer(word_to_vec_map, word_to_index)\n",
        "    embeddings = embedding_layer(sentence_indices)\n",
        "\n",
        "    X = LSTM(128, return_sequences=True)(embeddings)\n",
        "    X = Dropout(0.5)(X)\n",
        "    X = LSTM(128)(X)\n",
        "    X = Dropout(0.5)(X)\n",
        "    X = Dense(5)(X)\n",
        "    X = Activation('softmax')(X)\n",
        "\n",
        "    model = Model(inputs=sentence_indices, outputs=X)  # This creates a Functional model instance\n",
        "\n",
        "    return model\n"
      ],
      "metadata": {
        "id": "_qNb4xn2FsyQ"
      },
      "execution_count": 81,
      "outputs": []
    },
    {
      "cell_type": "code",
      "source": [
        "print(type(model))"
      ],
      "metadata": {
        "colab": {
          "base_uri": "https://localhost:8080/"
        },
        "id": "8KA5gj3sFwDX",
        "outputId": "c425cad2-4e3d-4432-adfa-d2eb5fcad6da"
      },
      "execution_count": 82,
      "outputs": [
        {
          "output_type": "stream",
          "name": "stdout",
          "text": [
            "<class 'keras.src.engine.functional.Functional'>\n"
          ]
        }
      ]
    },
    {
      "cell_type": "code",
      "source": [
        "def summary(model):\n",
        "    \"\"\"\n",
        "    Generate a simplified summary of a Keras model.\n",
        "\n",
        "    Arguments:\n",
        "    model -- A Keras model instance.\n",
        "\n",
        "    Returns:\n",
        "    model_summary -- A list of lists containing details about each layer\n",
        "                     in the model. Each inner list\n",
        "                     contains the layer type,\n",
        "                     output shape, and number of parameters.\n",
        "    \"\"\"\n",
        "    model_summary = []\n",
        "\n",
        "    for layer in model.layers:\n",
        "        layer_type = layer.__class__.__name__\n",
        "        output_shape = layer.output_shape\n",
        "        params = layer.count_params()\n",
        "\n",
        "        # Some layers might have multiple output shapes (e.g., in multi-output models).\n",
        "        # For simplicity, we'll only consider the first output shape if it's a list.\n",
        "        if isinstance(output_shape, list):\n",
        "            output_shape = output_shape[0]\n",
        "\n",
        "        layer_summary = [layer_type, output_shape, params]\n",
        "        model_summary.append(layer_summary)\n",
        "\n",
        "    return model_summary"
      ],
      "metadata": {
        "id": "wGSETmUWTUuM"
      },
      "execution_count": 53,
      "outputs": []
    },
    {
      "cell_type": "code",
      "source": [
        "def comparator(actual, expected):\n",
        "    \"\"\"\n",
        "    Compares the summary of the actual model against an expected model summary.\n",
        "\n",
        "    Arguments:\n",
        "    actual -- the actual model summary as a list of layer details\n",
        "    expected -- the expected model summary as a list of layer details\n",
        "    \"\"\"\n",
        "    assert len(actual) == len(expected), \"Number of layers does not match expected model.\"\n",
        "\n",
        "    for actual_layer, expected_layer in zip(actual, expected):\n",
        "        # Compare layer types\n",
        "        assert actual_layer[0] == expected_layer[0], f\"Expected layer type {expected_layer[0]}, but got {actual_layer[0]}\"\n",
        "        # Compare output shapes, if provided\n",
        "        if len(actual_layer) > 1 and actual_layer[1] is not None:\n",
        "            assert actual_layer[1] == expected_layer[1], f\"Expected shape {expected_layer[1]}, but got {actual_layer[1]}\"\n",
        "        # Compare number of parameters, if provided\n",
        "        if len(actual_layer) > 2 and actual_layer[2] is not None:\n",
        "            assert actual_layer[2] == expected_layer[2], f\"Expected params {expected_layer[2]}, but got {actual_layer[2]}\"\n",
        "\n",
        "    print(\"\\033[92mModel structure matches expected.\")\n"
      ],
      "metadata": {
        "id": "fPq5sAdce_vg"
      },
      "execution_count": 54,
      "outputs": []
    },
    {
      "cell_type": "code",
      "source": [],
      "metadata": {
        "id": "hF8LK4pPnOTw"
      },
      "execution_count": 84,
      "outputs": []
    },
    {
      "cell_type": "code",
      "source": [
        "from tensorflow.python.keras.engine.functional import Functional\n",
        "\n",
        "def Emojify_V2_test(target):\n",
        "    # Create a controlled word to vec map\n",
        "    word_to_vec_map = {'a': [3, 3], 'synonym_of_a': [3, 3], 'a_nw': [2, 4], 'a_s': [3, 2], 'a_n': [3, 4],\n",
        "                       'c': [-2, 1], 'c_n': [-2, 2],'c_ne': [-1, 2], 'c_e': [-1, 1], 'c_se': [-1, 0],\n",
        "                       'c_s': [-2, 0], 'c_sw': [-3, 0], 'c_w': [-3, 1], 'c_nw': [-3, 2]\n",
        "                      }\n",
        "    # Convert lists to np.arrays\n",
        "\n",
        "    for key in word_to_vec_map.keys():\n",
        "        word_to_vec_map[key] = np.array(word_to_vec_map[key])\n",
        "\n",
        "    # Create a word_to_index dictionary\n",
        "    word_to_index = {}\n",
        "    for idx, val in enumerate(list(word_to_vec_map.keys())):\n",
        "        word_to_index[val] = idx;\n",
        "\n",
        "    maxLen = 4\n",
        "    model = target((maxLen,), word_to_vec_map, word_to_index)\n",
        "\n",
        "    assert type(model) == Functional, \"Make sure you have correctly created Model instance which converts \\\"sentence_indices\\\" into \\\"X\\\"\"\n",
        "\n",
        "    expectedModel = [\n",
        "    ['InputLayer', [(None, 4)], 0],  # Defines an input layer expecting sequences of length 4.\n",
        "    ['Embedding', (None, 4, 2), 30],  # An embedding layer mapping each timestep in the input sequence to a 2D vector; total 30 parameters.\n",
        "    ['LSTM', (None, 4, 128), 67072, (None, 4, 2), 'tanh', True],  # First LSTM layer as explained above.\n",
        "    ['Dropout', (None, 4, 128), 0, 0.5],  # A dropout layer applied to the output of the LSTM layer, with a dropout rate of 0.5; it does not add parameters.\n",
        "    ['LSTM', (None, 128), 131584, (None, 4, 128), 'tanh', False],  # Second LSTM layer, returning only the last output of the sequence.\n",
        "    ['Dropout', (None, 128), 0, 0.5],  # Another dropout layer, now applied to the final output of the previous LSTM layer.\n",
        "    ['Dense', (None, 5), 645, 'linear'],  # A Dense layer with 5 units (for classification into 5 classes), using a linear activation function.\n",
        "    ['Activation', (None, 5), 0]  # An activation layer applying a non-linear activation to the output of the Dense layer; typically used for the final model output.\n",
        "]\n",
        "\n",
        "    comparator(summary(model), expectedModel)\n",
        "\n",
        "\n",
        "Emojify_V2_test(Emojify_V2)"
      ],
      "metadata": {
        "colab": {
          "base_uri": "https://localhost:8080/",
          "height": 346
        },
        "id": "BxFTiRnMA8vH",
        "outputId": "9ffbcf1c-2b79-4cbe-ff18-c8d97f03209f"
      },
      "execution_count": 55,
      "outputs": [
        {
          "output_type": "stream",
          "name": "stdout",
          "text": [
            "<class 'keras.src.engine.functional.Functional'>\n"
          ]
        },
        {
          "output_type": "error",
          "ename": "AssertionError",
          "evalue": "Make sure you have correctly created Model instance which converts \"sentence_indices\" into \"X\"",
          "traceback": [
            "\u001b[0;31m---------------------------------------------------------------------------\u001b[0m",
            "\u001b[0;31mAssertionError\u001b[0m                            Traceback (most recent call last)",
            "\u001b[0;32m<ipython-input-55-e18eea30d35f>\u001b[0m in \u001b[0;36m<cell line: 38>\u001b[0;34m()\u001b[0m\n\u001b[1;32m     36\u001b[0m \u001b[0;34m\u001b[0m\u001b[0m\n\u001b[1;32m     37\u001b[0m \u001b[0;34m\u001b[0m\u001b[0m\n\u001b[0;32m---> 38\u001b[0;31m \u001b[0mEmojify_V2_test\u001b[0m\u001b[0;34m(\u001b[0m\u001b[0mEmojify_V2\u001b[0m\u001b[0;34m)\u001b[0m\u001b[0;34m\u001b[0m\u001b[0;34m\u001b[0m\u001b[0m\n\u001b[0m",
            "\u001b[0;32m<ipython-input-55-e18eea30d35f>\u001b[0m in \u001b[0;36mEmojify_V2_test\u001b[0;34m(target)\u001b[0m\n\u001b[1;32m     20\u001b[0m     \u001b[0mmodel\u001b[0m \u001b[0;34m=\u001b[0m \u001b[0mtarget\u001b[0m\u001b[0;34m(\u001b[0m\u001b[0;34m(\u001b[0m\u001b[0mmaxLen\u001b[0m\u001b[0;34m,\u001b[0m\u001b[0;34m)\u001b[0m\u001b[0;34m,\u001b[0m \u001b[0mword_to_vec_map\u001b[0m\u001b[0;34m,\u001b[0m \u001b[0mword_to_index\u001b[0m\u001b[0;34m)\u001b[0m\u001b[0;34m\u001b[0m\u001b[0;34m\u001b[0m\u001b[0m\n\u001b[1;32m     21\u001b[0m \u001b[0;34m\u001b[0m\u001b[0m\n\u001b[0;32m---> 22\u001b[0;31m     \u001b[0;32massert\u001b[0m \u001b[0mtype\u001b[0m\u001b[0;34m(\u001b[0m\u001b[0mmodel\u001b[0m\u001b[0;34m)\u001b[0m \u001b[0;34m==\u001b[0m \u001b[0mFunctional\u001b[0m\u001b[0;34m,\u001b[0m \u001b[0;34m\"Make sure you have correctly created Model instance which converts \\\"sentence_indices\\\" into \\\"X\\\"\"\u001b[0m\u001b[0;34m\u001b[0m\u001b[0;34m\u001b[0m\u001b[0m\n\u001b[0m\u001b[1;32m     23\u001b[0m \u001b[0;34m\u001b[0m\u001b[0m\n\u001b[1;32m     24\u001b[0m     expectedModel = [\n",
            "\u001b[0;31mAssertionError\u001b[0m: Make sure you have correctly created Model instance which converts \"sentence_indices\" into \"X\""
          ]
        }
      ]
    },
    {
      "cell_type": "code",
      "source": [
        "model = Emojify_V2((maxLen,), word_to_vec_map, word_to_index)\n",
        "model.summary()\n"
      ],
      "metadata": {
        "colab": {
          "base_uri": "https://localhost:8080/"
        },
        "id": "KixGiSujBC7-",
        "outputId": "5e80855e-3da0-41f3-f53a-b519b8ea8bb2"
      },
      "execution_count": 56,
      "outputs": [
        {
          "output_type": "stream",
          "name": "stdout",
          "text": [
            "<class 'keras.src.engine.functional.Functional'>\n",
            "Model: \"model_1\"\n",
            "_________________________________________________________________\n",
            " Layer (type)                Output Shape              Param #   \n",
            "=================================================================\n",
            " input_2 (InputLayer)        [(None, 10)]              0         \n",
            "                                                                 \n",
            " embedding_3 (Embedding)     (None, 10, 50)            20000050  \n",
            "                                                                 \n",
            " lstm_2 (LSTM)               (None, 10, 128)           91648     \n",
            "                                                                 \n",
            " dropout_2 (Dropout)         (None, 10, 128)           0         \n",
            "                                                                 \n",
            " lstm_3 (LSTM)               (None, 128)               131584    \n",
            "                                                                 \n",
            " dropout_3 (Dropout)         (None, 128)               0         \n",
            "                                                                 \n",
            " dense_1 (Dense)             (None, 5)                 645       \n",
            "                                                                 \n",
            " activation_1 (Activation)   (None, 5)                 0         \n",
            "                                                                 \n",
            "=================================================================\n",
            "Total params: 20223927 (77.15 MB)\n",
            "Trainable params: 223877 (874.52 KB)\n",
            "Non-trainable params: 20000050 (76.29 MB)\n",
            "_________________________________________________________________\n"
          ]
        }
      ]
    },
    {
      "cell_type": "code",
      "source": [
        "model.compile(loss='categorical_crossentropy', optimizer='adam', metrics=['accuracy'])"
      ],
      "metadata": {
        "id": "L0Yullm6GlGY"
      },
      "execution_count": 57,
      "outputs": []
    },
    {
      "cell_type": "code",
      "source": [
        "X_train_indices = sentences_to_indices(X_train, word_to_index, maxLen)\n",
        "Y_train_oh = convert_to_one_hot(Y_train, C = 5)"
      ],
      "metadata": {
        "id": "fFL7Msp1rOYG"
      },
      "execution_count": 58,
      "outputs": []
    },
    {
      "cell_type": "code",
      "source": [
        "model.fit(X_train_indices, Y_train_oh, epochs = 50, batch_size = 32, shuffle=True)"
      ],
      "metadata": {
        "colab": {
          "base_uri": "https://localhost:8080/"
        },
        "id": "XDeBKuK1rTCf",
        "outputId": "f0a3d1ad-467a-4e1d-e37d-3a3bad716170"
      },
      "execution_count": 59,
      "outputs": [
        {
          "output_type": "stream",
          "name": "stdout",
          "text": [
            "Epoch 1/50\n",
            "4/4 [==============================] - 4s 30ms/step - loss: 1.5985 - accuracy: 0.2422\n",
            "Epoch 2/50\n",
            "4/4 [==============================] - 0s 30ms/step - loss: 1.5035 - accuracy: 0.2891\n",
            "Epoch 3/50\n",
            "4/4 [==============================] - 0s 26ms/step - loss: 1.5248 - accuracy: 0.3516\n",
            "Epoch 4/50\n",
            "4/4 [==============================] - 0s 30ms/step - loss: 1.4737 - accuracy: 0.3672\n",
            "Epoch 5/50\n",
            "4/4 [==============================] - 0s 29ms/step - loss: 1.4032 - accuracy: 0.4375\n",
            "Epoch 6/50\n",
            "4/4 [==============================] - 0s 30ms/step - loss: 1.3349 - accuracy: 0.4531\n",
            "Epoch 7/50\n",
            "4/4 [==============================] - 0s 28ms/step - loss: 1.2378 - accuracy: 0.4766\n",
            "Epoch 8/50\n",
            "4/4 [==============================] - 0s 29ms/step - loss: 1.0550 - accuracy: 0.6016\n",
            "Epoch 9/50\n",
            "4/4 [==============================] - 0s 27ms/step - loss: 0.8867 - accuracy: 0.6719\n",
            "Epoch 10/50\n",
            "4/4 [==============================] - 0s 29ms/step - loss: 0.8080 - accuracy: 0.6953\n",
            "Epoch 11/50\n",
            "4/4 [==============================] - 0s 27ms/step - loss: 0.7241 - accuracy: 0.7578\n",
            "Epoch 12/50\n",
            "4/4 [==============================] - 0s 30ms/step - loss: 0.5456 - accuracy: 0.7891\n",
            "Epoch 13/50\n",
            "4/4 [==============================] - 0s 29ms/step - loss: 0.5502 - accuracy: 0.8047\n",
            "Epoch 14/50\n",
            "4/4 [==============================] - 0s 27ms/step - loss: 0.4235 - accuracy: 0.8281\n",
            "Epoch 15/50\n",
            "4/4 [==============================] - 0s 30ms/step - loss: 0.4116 - accuracy: 0.8672\n",
            "Epoch 16/50\n",
            "4/4 [==============================] - 0s 28ms/step - loss: 0.3779 - accuracy: 0.8672\n",
            "Epoch 17/50\n",
            "4/4 [==============================] - 0s 32ms/step - loss: 0.2969 - accuracy: 0.9062\n",
            "Epoch 18/50\n",
            "4/4 [==============================] - 0s 29ms/step - loss: 0.2346 - accuracy: 0.9453\n",
            "Epoch 19/50\n",
            "4/4 [==============================] - 0s 31ms/step - loss: 0.2069 - accuracy: 0.9453\n",
            "Epoch 20/50\n",
            "4/4 [==============================] - 0s 29ms/step - loss: 0.1951 - accuracy: 0.9297\n",
            "Epoch 21/50\n",
            "4/4 [==============================] - 0s 29ms/step - loss: 0.1344 - accuracy: 0.9531\n",
            "Epoch 22/50\n",
            "4/4 [==============================] - 0s 29ms/step - loss: 0.1448 - accuracy: 0.9297\n",
            "Epoch 23/50\n",
            "4/4 [==============================] - 0s 29ms/step - loss: 0.1492 - accuracy: 0.9375\n",
            "Epoch 24/50\n",
            "4/4 [==============================] - 0s 30ms/step - loss: 0.2553 - accuracy: 0.9062\n",
            "Epoch 25/50\n",
            "4/4 [==============================] - 0s 33ms/step - loss: 0.2159 - accuracy: 0.9062\n",
            "Epoch 26/50\n",
            "4/4 [==============================] - 0s 29ms/step - loss: 0.3001 - accuracy: 0.8984\n",
            "Epoch 27/50\n",
            "4/4 [==============================] - 0s 30ms/step - loss: 0.4679 - accuracy: 0.8828\n",
            "Epoch 28/50\n",
            "4/4 [==============================] - 0s 28ms/step - loss: 0.1222 - accuracy: 0.9609\n",
            "Epoch 29/50\n",
            "4/4 [==============================] - 0s 28ms/step - loss: 0.2116 - accuracy: 0.9219\n",
            "Epoch 30/50\n",
            "4/4 [==============================] - 0s 28ms/step - loss: 0.1338 - accuracy: 0.9609\n",
            "Epoch 31/50\n",
            "4/4 [==============================] - 0s 28ms/step - loss: 0.1334 - accuracy: 0.9609\n",
            "Epoch 32/50\n",
            "4/4 [==============================] - 0s 28ms/step - loss: 0.0902 - accuracy: 0.9609\n",
            "Epoch 33/50\n",
            "4/4 [==============================] - 0s 29ms/step - loss: 0.0614 - accuracy: 0.9844\n",
            "Epoch 34/50\n",
            "4/4 [==============================] - 0s 33ms/step - loss: 0.0622 - accuracy: 0.9844\n",
            "Epoch 35/50\n",
            "4/4 [==============================] - 0s 28ms/step - loss: 0.0404 - accuracy: 1.0000\n",
            "Epoch 36/50\n",
            "4/4 [==============================] - 0s 30ms/step - loss: 0.0298 - accuracy: 1.0000\n",
            "Epoch 37/50\n",
            "4/4 [==============================] - 0s 29ms/step - loss: 0.0217 - accuracy: 1.0000\n",
            "Epoch 38/50\n",
            "4/4 [==============================] - 0s 31ms/step - loss: 0.0155 - accuracy: 1.0000\n",
            "Epoch 39/50\n",
            "4/4 [==============================] - 0s 28ms/step - loss: 0.0206 - accuracy: 0.9922\n",
            "Epoch 40/50\n",
            "4/4 [==============================] - 0s 30ms/step - loss: 0.0149 - accuracy: 1.0000\n",
            "Epoch 41/50\n",
            "4/4 [==============================] - 0s 27ms/step - loss: 0.0109 - accuracy: 1.0000\n",
            "Epoch 42/50\n",
            "4/4 [==============================] - 0s 33ms/step - loss: 0.0089 - accuracy: 1.0000\n",
            "Epoch 43/50\n",
            "4/4 [==============================] - 0s 29ms/step - loss: 0.0090 - accuracy: 1.0000\n",
            "Epoch 44/50\n",
            "4/4 [==============================] - 0s 31ms/step - loss: 0.0065 - accuracy: 1.0000\n",
            "Epoch 45/50\n",
            "4/4 [==============================] - 0s 28ms/step - loss: 0.0071 - accuracy: 1.0000\n",
            "Epoch 46/50\n",
            "4/4 [==============================] - 0s 30ms/step - loss: 0.0080 - accuracy: 1.0000\n",
            "Epoch 47/50\n",
            "4/4 [==============================] - 0s 30ms/step - loss: 0.0056 - accuracy: 1.0000\n",
            "Epoch 48/50\n",
            "4/4 [==============================] - 0s 29ms/step - loss: 0.0050 - accuracy: 1.0000\n",
            "Epoch 49/50\n",
            "4/4 [==============================] - 0s 29ms/step - loss: 0.0034 - accuracy: 1.0000\n",
            "Epoch 50/50\n",
            "4/4 [==============================] - 0s 29ms/step - loss: 0.0044 - accuracy: 1.0000\n"
          ]
        },
        {
          "output_type": "execute_result",
          "data": {
            "text/plain": [
              "<keras.src.callbacks.History at 0x7881c17e0b20>"
            ]
          },
          "metadata": {},
          "execution_count": 59
        }
      ]
    },
    {
      "cell_type": "code",
      "source": [
        "X_test_indices = sentences_to_indices(X_test, word_to_index, maxLen)\n",
        "Y_test_oh = convert_to_one_hot(Y_test, C = 5)\n",
        "loss, acc = model.evaluate(X_test_indices, Y_test_oh)\n",
        "print()\n",
        "print(\"Test accuracy = \", acc)"
      ],
      "metadata": {
        "colab": {
          "base_uri": "https://localhost:8080/"
        },
        "id": "ANKslj6irYyt",
        "outputId": "0f19ec5a-9bd7-46f8-d19a-a82aa1e108a1"
      },
      "execution_count": 60,
      "outputs": [
        {
          "output_type": "stream",
          "name": "stdout",
          "text": [
            "2/2 [==============================] - 1s 13ms/step - loss: 1.3637 - accuracy: 0.7679\n",
            "\n",
            "Test accuracy =  0.7678571343421936\n"
          ]
        }
      ]
    },
    {
      "cell_type": "code",
      "source": [
        "# This code allows you to see the mislabelled examples\n",
        "C = 5\n",
        "y_test_oh = np.eye(C)[Y_test.reshape(-1)]\n",
        "X_test_indices = sentences_to_indices(X_test, word_to_index, maxLen)\n",
        "pred = model.predict(X_test_indices)\n",
        "for i in range(len(X_test)):\n",
        "    x = X_test_indices\n",
        "    num = np.argmax(pred[i])\n",
        "    if(num != Y_test[i]):\n",
        "        print('Expected emoji:'+ label_to_emoji(Y_test[i]) + ' prediction: '+ X_test[i] + label_to_emoji(num).strip())"
      ],
      "metadata": {
        "colab": {
          "base_uri": "https://localhost:8080/"
        },
        "id": "Qs4MJAdnrp3Z",
        "outputId": "2fb0fae8-80f1-4d8f-d6f6-dedcfd0a2f50"
      },
      "execution_count": 61,
      "outputs": [
        {
          "output_type": "stream",
          "name": "stdout",
          "text": [
            "2/2 [==============================] - 1s 11ms/step\n",
            "Expected emoji:😄 prediction: he got a very nice raise❤️\n",
            "Expected emoji:😄 prediction: she got me a nice present❤️\n",
            "Expected emoji:😄 prediction: he is a good friend❤️\n",
            "Expected emoji:😄 prediction: We had such a lovely dinner tonight❤️\n",
            "Expected emoji:😞 prediction: work is hard😄\n",
            "Expected emoji:😞 prediction: This girl is messing with me❤️\n",
            "Expected emoji:🍴 prediction: any suggestions for dinner😄\n",
            "Expected emoji:😞 prediction: she is a bully❤️\n",
            "Expected emoji:😄 prediction: valentine day is near❤️\n",
            "Expected emoji:😄 prediction: will you be my valentine❤️\n",
            "Expected emoji:❤️ prediction: I like your jacket 😄\n",
            "Expected emoji:😄 prediction: What you did was awesome😞\n",
            "Expected emoji:🍴 prediction: I did not have breakfast 😞\n"
          ]
        }
      ]
    },
    {
      "cell_type": "code",
      "source": [
        "# Change the sentence below to see your prediction. Make sure all the words are in the Glove embeddings.\n",
        "x_test = np.array(['I cannot play'])\n",
        "X_test_indices = sentences_to_indices(x_test, word_to_index, maxLen)\n",
        "print(x_test[0] +' '+  label_to_emoji(np.argmax(model.predict(X_test_indices))))"
      ],
      "metadata": {
        "colab": {
          "base_uri": "https://localhost:8080/"
        },
        "id": "Uz9n9JJysFFL",
        "outputId": "e7e031c1-e782-4a7d-e71b-c27965afc574"
      },
      "execution_count": 62,
      "outputs": [
        {
          "output_type": "stream",
          "name": "stdout",
          "text": [
            "1/1 [==============================] - 0s 32ms/step\n",
            "I cannot play ⚾\n"
          ]
        }
      ]
    },
    {
      "cell_type": "code",
      "source": [
        "x_test = np.array([\"Congratulations on finishing this assignment and building an Emojifier. \"])\n",
        "X_test_indices = sentences_to_indices(x_test, word_to_index, maxLen)\n",
        "print(x_test[0] +' '+  label_to_emoji(np.argmax(model.predict(X_test_indices))))"
      ],
      "metadata": {
        "colab": {
          "base_uri": "https://localhost:8080/"
        },
        "id": "1EDwCaTMsOIy",
        "outputId": "bc7a36ef-30df-4e94-bbf4-5f2d333c56e6"
      },
      "execution_count": 63,
      "outputs": [
        {
          "output_type": "stream",
          "name": "stdout",
          "text": [
            "1/1 [==============================] - 0s 23ms/step\n",
            "Congratulations on finishing this assignment and building an Emojifier.  😄\n"
          ]
        }
      ]
    },
    {
      "cell_type": "code",
      "source": [
        "x_test = np.array([\"You've completed this notebook, and harnessed the power of LSTMs   \"])\n",
        "X_test_indices = sentences_to_indices(x_test, word_to_index, maxLen)\n",
        "print(x_test[0] +' '+  label_to_emoji(np.argmax(model.predict(X_test_indices))))"
      ],
      "metadata": {
        "colab": {
          "base_uri": "https://localhost:8080/"
        },
        "id": "MUlard3ssivD",
        "outputId": "05254a47-cd0f-4eba-8072-a22f12fda8c3"
      },
      "execution_count": 64,
      "outputs": [
        {
          "output_type": "stream",
          "name": "stdout",
          "text": [
            "1/1 [==============================] - 0s 35ms/step\n",
            "You've completed this notebook, and harnessed the power of LSTMs    😞\n"
          ]
        }
      ]
    },
    {
      "cell_type": "code",
      "source": [],
      "metadata": {
        "id": "_iDIk94Ou_J0"
      },
      "execution_count": null,
      "outputs": []
    }
  ]
}